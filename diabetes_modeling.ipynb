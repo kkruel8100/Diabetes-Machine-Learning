{
 "cells": [
  {
   "cell_type": "code",
   "execution_count": 1,
   "metadata": {},
   "outputs": [],
   "source": [
    "import pandas as pd\n"
   ]
  },
  {
   "cell_type": "code",
   "execution_count": 2,
   "metadata": {},
   "outputs": [
    {
     "data": {
      "text/html": [
       "<div>\n",
       "<style scoped>\n",
       "    .dataframe tbody tr th:only-of-type {\n",
       "        vertical-align: middle;\n",
       "    }\n",
       "\n",
       "    .dataframe tbody tr th {\n",
       "        vertical-align: top;\n",
       "    }\n",
       "\n",
       "    .dataframe thead th {\n",
       "        text-align: right;\n",
       "    }\n",
       "</style>\n",
       "<table border=\"1\" class=\"dataframe\">\n",
       "  <thead>\n",
       "    <tr style=\"text-align: right;\">\n",
       "      <th></th>\n",
       "      <th>income</th>\n",
       "      <th>age_diagnosed_diabetes</th>\n",
       "      <th>marital_status</th>\n",
       "      <th>hours_worked_per_week</th>\n",
       "      <th>smoker_status</th>\n",
       "      <th>stroke</th>\n",
       "      <th>poor_health_during_last_30_days</th>\n",
       "      <th>sex</th>\n",
       "      <th>general_health</th>\n",
       "      <th>education_level</th>\n",
       "      <th>...</th>\n",
       "      <th>number_of_days_alcohol_consumption_in_last_30_days</th>\n",
       "      <th>lifetime_asthma</th>\n",
       "      <th>number_of_days_mental_health_not_good</th>\n",
       "      <th>physical_activity_during_last_30_days</th>\n",
       "      <th>bmi_category</th>\n",
       "      <th>arthristis</th>\n",
       "      <th>healthcare_coverage</th>\n",
       "      <th>age_category</th>\n",
       "      <th>month_year</th>\n",
       "      <th>year</th>\n",
       "    </tr>\n",
       "  </thead>\n",
       "  <tbody>\n",
       "    <tr>\n",
       "      <th>0</th>\n",
       "      <td>4.0</td>\n",
       "      <td>NaN</td>\n",
       "      <td>3.0</td>\n",
       "      <td>NaN</td>\n",
       "      <td>4.0</td>\n",
       "      <td>2.0</td>\n",
       "      <td>NaN</td>\n",
       "      <td>2.0</td>\n",
       "      <td>3.0</td>\n",
       "      <td>2.0</td>\n",
       "      <td>...</td>\n",
       "      <td>2.0</td>\n",
       "      <td>1.0</td>\n",
       "      <td>88.0</td>\n",
       "      <td>2.0</td>\n",
       "      <td>NaN</td>\n",
       "      <td>1.0</td>\n",
       "      <td>1.0</td>\n",
       "      <td>9.0</td>\n",
       "      <td>2011-01-01</td>\n",
       "      <td>2011</td>\n",
       "    </tr>\n",
       "    <tr>\n",
       "      <th>1</th>\n",
       "      <td>9.0</td>\n",
       "      <td>NaN</td>\n",
       "      <td>1.0</td>\n",
       "      <td>NaN</td>\n",
       "      <td>4.0</td>\n",
       "      <td>2.0</td>\n",
       "      <td>3.0</td>\n",
       "      <td>2.0</td>\n",
       "      <td>1.0</td>\n",
       "      <td>4.0</td>\n",
       "      <td>...</td>\n",
       "      <td>1.0</td>\n",
       "      <td>1.0</td>\n",
       "      <td>88.0</td>\n",
       "      <td>1.0</td>\n",
       "      <td>NaN</td>\n",
       "      <td>2.0</td>\n",
       "      <td>1.0</td>\n",
       "      <td>8.0</td>\n",
       "      <td>2011-01-01</td>\n",
       "      <td>2011</td>\n",
       "    </tr>\n",
       "    <tr>\n",
       "      <th>2</th>\n",
       "      <td>4.0</td>\n",
       "      <td>NaN</td>\n",
       "      <td>1.0</td>\n",
       "      <td>NaN</td>\n",
       "      <td>4.0</td>\n",
       "      <td>2.0</td>\n",
       "      <td>1.0</td>\n",
       "      <td>2.0</td>\n",
       "      <td>3.0</td>\n",
       "      <td>2.0</td>\n",
       "      <td>...</td>\n",
       "      <td>1.0</td>\n",
       "      <td>1.0</td>\n",
       "      <td>5.0</td>\n",
       "      <td>1.0</td>\n",
       "      <td>4.0</td>\n",
       "      <td>7.0</td>\n",
       "      <td>1.0</td>\n",
       "      <td>6.0</td>\n",
       "      <td>2011-01-01</td>\n",
       "      <td>2011</td>\n",
       "    </tr>\n",
       "    <tr>\n",
       "      <th>3</th>\n",
       "      <td>2.0</td>\n",
       "      <td>NaN</td>\n",
       "      <td>1.0</td>\n",
       "      <td>NaN</td>\n",
       "      <td>4.0</td>\n",
       "      <td>2.0</td>\n",
       "      <td>88.0</td>\n",
       "      <td>1.0</td>\n",
       "      <td>3.0</td>\n",
       "      <td>2.0</td>\n",
       "      <td>...</td>\n",
       "      <td>1.0</td>\n",
       "      <td>1.0</td>\n",
       "      <td>88.0</td>\n",
       "      <td>1.0</td>\n",
       "      <td>3.0</td>\n",
       "      <td>1.0</td>\n",
       "      <td>1.0</td>\n",
       "      <td>11.0</td>\n",
       "      <td>2011-01-01</td>\n",
       "      <td>2011</td>\n",
       "    </tr>\n",
       "    <tr>\n",
       "      <th>4</th>\n",
       "      <td>5.0</td>\n",
       "      <td>NaN</td>\n",
       "      <td>1.0</td>\n",
       "      <td>NaN</td>\n",
       "      <td>3.0</td>\n",
       "      <td>2.0</td>\n",
       "      <td>88.0</td>\n",
       "      <td>2.0</td>\n",
       "      <td>4.0</td>\n",
       "      <td>3.0</td>\n",
       "      <td>...</td>\n",
       "      <td>1.0</td>\n",
       "      <td>1.0</td>\n",
       "      <td>88.0</td>\n",
       "      <td>2.0</td>\n",
       "      <td>4.0</td>\n",
       "      <td>2.0</td>\n",
       "      <td>1.0</td>\n",
       "      <td>11.0</td>\n",
       "      <td>2011-01-01</td>\n",
       "      <td>2011</td>\n",
       "    </tr>\n",
       "  </tbody>\n",
       "</table>\n",
       "<p>5 rows × 36 columns</p>\n",
       "</div>"
      ],
      "text/plain": [
       "   income  age_diagnosed_diabetes  marital_status  hours_worked_per_week  \\\n",
       "0     4.0                     NaN             3.0                    NaN   \n",
       "1     9.0                     NaN             1.0                    NaN   \n",
       "2     4.0                     NaN             1.0                    NaN   \n",
       "3     2.0                     NaN             1.0                    NaN   \n",
       "4     5.0                     NaN             1.0                    NaN   \n",
       "\n",
       "   smoker_status  stroke  poor_health_during_last_30_days  sex  \\\n",
       "0            4.0     2.0                              NaN  2.0   \n",
       "1            4.0     2.0                              3.0  2.0   \n",
       "2            4.0     2.0                              1.0  2.0   \n",
       "3            4.0     2.0                             88.0  1.0   \n",
       "4            3.0     2.0                             88.0  2.0   \n",
       "\n",
       "   general_health  education_level  ...  \\\n",
       "0             3.0              2.0  ...   \n",
       "1             1.0              4.0  ...   \n",
       "2             3.0              2.0  ...   \n",
       "3             3.0              2.0  ...   \n",
       "4             4.0              3.0  ...   \n",
       "\n",
       "   number_of_days_alcohol_consumption_in_last_30_days  lifetime_asthma  \\\n",
       "0                                                2.0               1.0   \n",
       "1                                                1.0               1.0   \n",
       "2                                                1.0               1.0   \n",
       "3                                                1.0               1.0   \n",
       "4                                                1.0               1.0   \n",
       "\n",
       "   number_of_days_mental_health_not_good  \\\n",
       "0                                   88.0   \n",
       "1                                   88.0   \n",
       "2                                    5.0   \n",
       "3                                   88.0   \n",
       "4                                   88.0   \n",
       "\n",
       "   physical_activity_during_last_30_days  bmi_category  arthristis  \\\n",
       "0                                    2.0           NaN         1.0   \n",
       "1                                    1.0           NaN         2.0   \n",
       "2                                    1.0           4.0         7.0   \n",
       "3                                    1.0           3.0         1.0   \n",
       "4                                    2.0           4.0         2.0   \n",
       "\n",
       "   healthcare_coverage  age_category  month_year  year  \n",
       "0                  1.0           9.0  2011-01-01  2011  \n",
       "1                  1.0           8.0  2011-01-01  2011  \n",
       "2                  1.0           6.0  2011-01-01  2011  \n",
       "3                  1.0          11.0  2011-01-01  2011  \n",
       "4                  1.0          11.0  2011-01-01  2011  \n",
       "\n",
       "[5 rows x 36 columns]"
      ]
     },
     "execution_count": 2,
     "metadata": {},
     "output_type": "execute_result"
    }
   ],
   "source": [
    "sample_df = pd.read_csv(\"datasets/sampled_data.csv\")\n",
    "sample_df.head()"
   ]
  },
  {
   "cell_type": "code",
   "execution_count": 3,
   "metadata": {},
   "outputs": [
    {
     "data": {
      "text/html": [
       "<div>\n",
       "<style scoped>\n",
       "    .dataframe tbody tr th:only-of-type {\n",
       "        vertical-align: middle;\n",
       "    }\n",
       "\n",
       "    .dataframe tbody tr th {\n",
       "        vertical-align: top;\n",
       "    }\n",
       "\n",
       "    .dataframe thead th {\n",
       "        text-align: right;\n",
       "    }\n",
       "</style>\n",
       "<table border=\"1\" class=\"dataframe\">\n",
       "  <thead>\n",
       "    <tr style=\"text-align: right;\">\n",
       "      <th></th>\n",
       "      <th>income</th>\n",
       "      <th>age_diagnosed_diabetes</th>\n",
       "      <th>marital_status</th>\n",
       "      <th>hours_worked_per_week</th>\n",
       "      <th>smoker_status</th>\n",
       "      <th>stroke</th>\n",
       "      <th>poor_health_during_last_30_days</th>\n",
       "      <th>sex</th>\n",
       "      <th>general_health</th>\n",
       "      <th>education_level</th>\n",
       "      <th>...</th>\n",
       "      <th>number_of_days_alcohol_consumption_in_last_30_days</th>\n",
       "      <th>lifetime_asthma</th>\n",
       "      <th>number_of_days_mental_health_not_good</th>\n",
       "      <th>physical_activity_during_last_30_days</th>\n",
       "      <th>bmi_category</th>\n",
       "      <th>arthristis</th>\n",
       "      <th>healthcare_coverage</th>\n",
       "      <th>age_category</th>\n",
       "      <th>month_year</th>\n",
       "      <th>year</th>\n",
       "    </tr>\n",
       "  </thead>\n",
       "  <tbody>\n",
       "    <tr>\n",
       "      <th>499995</th>\n",
       "      <td>5.0</td>\n",
       "      <td>NaN</td>\n",
       "      <td>2.0</td>\n",
       "      <td>NaN</td>\n",
       "      <td>1.0</td>\n",
       "      <td>2.0</td>\n",
       "      <td>NaN</td>\n",
       "      <td>2.0</td>\n",
       "      <td>2.0</td>\n",
       "      <td>4.0</td>\n",
       "      <td>...</td>\n",
       "      <td>1.0</td>\n",
       "      <td>1.0</td>\n",
       "      <td>88.0</td>\n",
       "      <td>2.0</td>\n",
       "      <td>2.0</td>\n",
       "      <td>2.0</td>\n",
       "      <td>1.0</td>\n",
       "      <td>7.0</td>\n",
       "      <td>2015-12-01</td>\n",
       "      <td>2015</td>\n",
       "    </tr>\n",
       "    <tr>\n",
       "      <th>499996</th>\n",
       "      <td>2.0</td>\n",
       "      <td>65.0</td>\n",
       "      <td>3.0</td>\n",
       "      <td>NaN</td>\n",
       "      <td>3.0</td>\n",
       "      <td>2.0</td>\n",
       "      <td>88.0</td>\n",
       "      <td>2.0</td>\n",
       "      <td>5.0</td>\n",
       "      <td>4.0</td>\n",
       "      <td>...</td>\n",
       "      <td>1.0</td>\n",
       "      <td>1.0</td>\n",
       "      <td>88.0</td>\n",
       "      <td>2.0</td>\n",
       "      <td>3.0</td>\n",
       "      <td>2.0</td>\n",
       "      <td>1.0</td>\n",
       "      <td>11.0</td>\n",
       "      <td>2015-12-01</td>\n",
       "      <td>2015</td>\n",
       "    </tr>\n",
       "    <tr>\n",
       "      <th>499997</th>\n",
       "      <td>5.0</td>\n",
       "      <td>NaN</td>\n",
       "      <td>1.0</td>\n",
       "      <td>NaN</td>\n",
       "      <td>4.0</td>\n",
       "      <td>2.0</td>\n",
       "      <td>NaN</td>\n",
       "      <td>2.0</td>\n",
       "      <td>1.0</td>\n",
       "      <td>4.0</td>\n",
       "      <td>...</td>\n",
       "      <td>1.0</td>\n",
       "      <td>1.0</td>\n",
       "      <td>88.0</td>\n",
       "      <td>1.0</td>\n",
       "      <td>3.0</td>\n",
       "      <td>2.0</td>\n",
       "      <td>1.0</td>\n",
       "      <td>4.0</td>\n",
       "      <td>2015-12-01</td>\n",
       "      <td>2015</td>\n",
       "    </tr>\n",
       "    <tr>\n",
       "      <th>499998</th>\n",
       "      <td>5.0</td>\n",
       "      <td>NaN</td>\n",
       "      <td>1.0</td>\n",
       "      <td>NaN</td>\n",
       "      <td>4.0</td>\n",
       "      <td>2.0</td>\n",
       "      <td>8.0</td>\n",
       "      <td>2.0</td>\n",
       "      <td>4.0</td>\n",
       "      <td>4.0</td>\n",
       "      <td>...</td>\n",
       "      <td>2.0</td>\n",
       "      <td>2.0</td>\n",
       "      <td>1.0</td>\n",
       "      <td>1.0</td>\n",
       "      <td>4.0</td>\n",
       "      <td>1.0</td>\n",
       "      <td>1.0</td>\n",
       "      <td>9.0</td>\n",
       "      <td>2015-12-01</td>\n",
       "      <td>2015</td>\n",
       "    </tr>\n",
       "    <tr>\n",
       "      <th>499999</th>\n",
       "      <td>5.0</td>\n",
       "      <td>NaN</td>\n",
       "      <td>1.0</td>\n",
       "      <td>36.0</td>\n",
       "      <td>4.0</td>\n",
       "      <td>2.0</td>\n",
       "      <td>NaN</td>\n",
       "      <td>2.0</td>\n",
       "      <td>2.0</td>\n",
       "      <td>4.0</td>\n",
       "      <td>...</td>\n",
       "      <td>2.0</td>\n",
       "      <td>1.0</td>\n",
       "      <td>88.0</td>\n",
       "      <td>1.0</td>\n",
       "      <td>NaN</td>\n",
       "      <td>2.0</td>\n",
       "      <td>1.0</td>\n",
       "      <td>3.0</td>\n",
       "      <td>2015-12-01</td>\n",
       "      <td>2015</td>\n",
       "    </tr>\n",
       "  </tbody>\n",
       "</table>\n",
       "<p>5 rows × 36 columns</p>\n",
       "</div>"
      ],
      "text/plain": [
       "        income  age_diagnosed_diabetes  marital_status  hours_worked_per_week  \\\n",
       "499995     5.0                     NaN             2.0                    NaN   \n",
       "499996     2.0                    65.0             3.0                    NaN   \n",
       "499997     5.0                     NaN             1.0                    NaN   \n",
       "499998     5.0                     NaN             1.0                    NaN   \n",
       "499999     5.0                     NaN             1.0                   36.0   \n",
       "\n",
       "        smoker_status  stroke  poor_health_during_last_30_days  sex  \\\n",
       "499995            1.0     2.0                              NaN  2.0   \n",
       "499996            3.0     2.0                             88.0  2.0   \n",
       "499997            4.0     2.0                              NaN  2.0   \n",
       "499998            4.0     2.0                              8.0  2.0   \n",
       "499999            4.0     2.0                              NaN  2.0   \n",
       "\n",
       "        general_health  education_level  ...  \\\n",
       "499995             2.0              4.0  ...   \n",
       "499996             5.0              4.0  ...   \n",
       "499997             1.0              4.0  ...   \n",
       "499998             4.0              4.0  ...   \n",
       "499999             2.0              4.0  ...   \n",
       "\n",
       "        number_of_days_alcohol_consumption_in_last_30_days  lifetime_asthma  \\\n",
       "499995                                                1.0               1.0   \n",
       "499996                                                1.0               1.0   \n",
       "499997                                                1.0               1.0   \n",
       "499998                                                2.0               2.0   \n",
       "499999                                                2.0               1.0   \n",
       "\n",
       "        number_of_days_mental_health_not_good  \\\n",
       "499995                                   88.0   \n",
       "499996                                   88.0   \n",
       "499997                                   88.0   \n",
       "499998                                    1.0   \n",
       "499999                                   88.0   \n",
       "\n",
       "        physical_activity_during_last_30_days  bmi_category  arthristis  \\\n",
       "499995                                    2.0           2.0         2.0   \n",
       "499996                                    2.0           3.0         2.0   \n",
       "499997                                    1.0           3.0         2.0   \n",
       "499998                                    1.0           4.0         1.0   \n",
       "499999                                    1.0           NaN         2.0   \n",
       "\n",
       "        healthcare_coverage  age_category  month_year  year  \n",
       "499995                  1.0           7.0  2015-12-01  2015  \n",
       "499996                  1.0          11.0  2015-12-01  2015  \n",
       "499997                  1.0           4.0  2015-12-01  2015  \n",
       "499998                  1.0           9.0  2015-12-01  2015  \n",
       "499999                  1.0           3.0  2015-12-01  2015  \n",
       "\n",
       "[5 rows x 36 columns]"
      ]
     },
     "execution_count": 3,
     "metadata": {},
     "output_type": "execute_result"
    }
   ],
   "source": [
    "sample_df.tail()    "
   ]
  },
  {
   "cell_type": "code",
   "execution_count": 4,
   "metadata": {},
   "outputs": [
    {
     "data": {
      "text/plain": [
       "(500000, 36)"
      ]
     },
     "execution_count": 4,
     "metadata": {},
     "output_type": "execute_result"
    }
   ],
   "source": [
    "sample_df.shape"
   ]
  },
  {
   "cell_type": "code",
   "execution_count": 5,
   "metadata": {},
   "outputs": [
    {
     "name": "stdout",
     "output_type": "stream",
     "text": [
      "<class 'pandas.core.frame.DataFrame'>\n",
      "RangeIndex: 500000 entries, 0 to 499999\n",
      "Data columns (total 36 columns):\n",
      " #   Column                                                Non-Null Count   Dtype  \n",
      "---  ------                                                --------------   -----  \n",
      " 0   income                                                500000 non-null  float64\n",
      " 1   age_diagnosed_diabetes                                44811 non-null   float64\n",
      " 2   marital_status                                        499605 non-null  float64\n",
      " 3   hours_worked_per_week                                 25674 non-null   float64\n",
      " 4   smoker_status                                         500000 non-null  float64\n",
      " 5   stroke                                                500000 non-null  float64\n",
      " 6   poor_health_during_last_30_days                       256893 non-null  float64\n",
      " 7   sex                                                   500000 non-null  float64\n",
      " 8   general_health                                        499996 non-null  float64\n",
      " 9   education_level                                       500000 non-null  float64\n",
      " 10  current_smoker                                        500000 non-null  float64\n",
      " 11  skin_cancer                                           499999 non-null  float64\n",
      " 12  heart_attack                                          500000 non-null  float64\n",
      " 13  life_satisfaction                                     10224 non-null   float64\n",
      " 14  coronary_heart_disease                                500000 non-null  float64\n",
      " 15  asthma                                                500000 non-null  float64\n",
      " 16  state                                                 500000 non-null  float64\n",
      " 17  education_level.1                                     499389 non-null  float64\n",
      " 18  depressive_disorder                                   499997 non-null  float64\n",
      " 19  usual_activity_hard_in_last_30_days                   4028 non-null    float64\n",
      " 20  number_of_days_physical_health_not_good_last_30_days  500000 non-null  float64\n",
      " 21  activity_limitation                                   487461 non-null  float64\n",
      " 22  pre_diabetes                                          194649 non-null  float64\n",
      " 23  health_level                                          500000 non-null  float64\n",
      " 24  had_hysterectomy                                      121924 non-null  float64\n",
      " 25  diabetes                                              500000 non-null  float64\n",
      " 26  number_of_days_alcohol_consumption_in_last_30_days    500000 non-null  float64\n",
      " 27  lifetime_asthma                                       500000 non-null  float64\n",
      " 28  number_of_days_mental_health_not_good                 500000 non-null  float64\n",
      " 29  physical_activity_during_last_30_days                 500000 non-null  float64\n",
      " 30  bmi_category                                          469593 non-null  float64\n",
      " 31  arthristis                                            500000 non-null  float64\n",
      " 32  healthcare_coverage                                   500000 non-null  float64\n",
      " 33  age_category                                          500000 non-null  float64\n",
      " 34  month_year                                            500000 non-null  object \n",
      " 35  year                                                  500000 non-null  int64  \n",
      "dtypes: float64(34), int64(1), object(1)\n",
      "memory usage: 137.3+ MB\n"
     ]
    }
   ],
   "source": [
    "sample_df.info()"
   ]
  },
  {
   "cell_type": "code",
   "execution_count": 6,
   "metadata": {},
   "outputs": [],
   "source": [
    "# Drop life_satisfaction, usual_activity_hard_in_last_30_days, hours_worked_per_week, age_diagnosed_diabetes, had_hysterectomy,  \n",
    "modified_sample_df = sample_df.copy()\n",
    "modified_sample_df.drop(columns=[\"life_satisfaction\", \"usual_activity_hard_in_last_30_days\", \"hours_worked_per_week\", \"age_diagnosed_diabetes\", \"had_hysterectomy\"], inplace=True)"
   ]
  },
  {
   "cell_type": "code",
   "execution_count": 7,
   "metadata": {},
   "outputs": [],
   "source": [
    "# Rename columns\n",
    "sample_df.rename(columns={\n",
    "    \"state\":\"_STATE\", \n",
    "    \"income\":\"_INCOMG\",\n",
    "    \"age_diagnosed_diabetes\":\"DIABAGE2\",\n",
    "    \"smoker_status\":\"_SMOKER3\",\n",
    "    \"stroke\":\"CVDSTRK3\",\n",
    "    \"sex\":\"SEX\",\n",
    "    \"marital_status\":\"MARITAL\",    \n",
    "    \"general_health\":\"GENHLTH\",\n",
    "    \"hours_worked_per_week\":\"SCNTWRK1\",\n",
    "    \"current_smoker\":\"_RFSMOK3\",\n",
    "    \"skin_cancer\":\"CHCSCNCR\", \n",
    "    \"heart_attack\":\"CVDINFR4\", \n",
    "    \"interview_date\":\"IDATE\", \n",
    "    \"life_satisfaction\":\"LSATISFY\", \n",
    "    \"coronary_heart_disease\":\"CVDCRHD4\", \n",
    "    \"asthma\":\"ASTHMA3\",\n",
    "    \"depressive_disorder\":\"ADDEPEV2\", \n",
    "    \"number_of_days_physical_health_not_good_last_30_days\":\"PHYSHLTH\", \n",
    "    \"activity_limitation\":\"QLACTLM2\", \n",
    "    \"pre_diabetes\":\"PREDIAB1\", \n",
    "    \"had_hysterectomy\":\"HADHYST2\", \n",
    "    \"diabetes\":\"DIABETE3\",\n",
    "    \"lifetime_asthma\":\"_LTASTH1\", \n",
    "    \"number_of_days_mental_health_not_good\":\"MENTHLTH\", \n",
    "    \"arthristis\":\"HAVARTH3\", \n",
    "    \"healthcare_coverage\":\"HLTHPLN1\", \n",
    "    \"age_category\":\"_AGEG5YR\",\n",
    "    \"poor_health_during_last_30_days\":\"POORHLTH\",\n",
    "    \"education_level\":\"_EDUCAG\",\n",
    "    \"education_level\":\"EDUCA\",\n",
    "    \"usual_activity_hard_in_last_30_days\":\"PAINACT2\",\n",
    "    \"health_level\":\"_RFHLTH\",\n",
    "    \"number_of_days_alcohol_consumption_in_last_30_days\":\"DRNKANY5\",\n",
    "    \"physical_activity_during_last_30_days\":\"_TOTINDA\",\n",
    "    \"bmi_category\":\"_BMI5CAT\",\n",
    "    }, inplace=True)\n"
   ]
  },
  {
   "cell_type": "code",
   "execution_count": 8,
   "metadata": {},
   "outputs": [],
   "source": [
    " # drop life_satisfaction,  "
   ]
  },
  {
   "cell_type": "code",
   "execution_count": 9,
   "metadata": {},
   "outputs": [
    {
     "data": {
      "text/html": [
       "<div>\n",
       "<style scoped>\n",
       "    .dataframe tbody tr th:only-of-type {\n",
       "        vertical-align: middle;\n",
       "    }\n",
       "\n",
       "    .dataframe tbody tr th {\n",
       "        vertical-align: top;\n",
       "    }\n",
       "\n",
       "    .dataframe thead th {\n",
       "        text-align: right;\n",
       "    }\n",
       "</style>\n",
       "<table border=\"1\" class=\"dataframe\">\n",
       "  <thead>\n",
       "    <tr style=\"text-align: right;\">\n",
       "      <th></th>\n",
       "      <th>_INCOMG</th>\n",
       "      <th>DIABAGE2</th>\n",
       "      <th>MARITAL</th>\n",
       "      <th>SCNTWRK1</th>\n",
       "      <th>_SMOKER3</th>\n",
       "      <th>CVDSTRK3</th>\n",
       "      <th>POORHLTH</th>\n",
       "      <th>SEX</th>\n",
       "      <th>GENHLTH</th>\n",
       "      <th>EDUCA</th>\n",
       "      <th>...</th>\n",
       "      <th>DRNKANY5</th>\n",
       "      <th>_LTASTH1</th>\n",
       "      <th>MENTHLTH</th>\n",
       "      <th>_TOTINDA</th>\n",
       "      <th>_BMI5CAT</th>\n",
       "      <th>HAVARTH3</th>\n",
       "      <th>HLTHPLN1</th>\n",
       "      <th>_AGEG5YR</th>\n",
       "      <th>month_year</th>\n",
       "      <th>year</th>\n",
       "    </tr>\n",
       "  </thead>\n",
       "  <tbody>\n",
       "    <tr>\n",
       "      <th>0</th>\n",
       "      <td>4.0</td>\n",
       "      <td>NaN</td>\n",
       "      <td>3.0</td>\n",
       "      <td>NaN</td>\n",
       "      <td>4.0</td>\n",
       "      <td>2.0</td>\n",
       "      <td>NaN</td>\n",
       "      <td>2.0</td>\n",
       "      <td>3.0</td>\n",
       "      <td>2.0</td>\n",
       "      <td>...</td>\n",
       "      <td>2.0</td>\n",
       "      <td>1.0</td>\n",
       "      <td>88.0</td>\n",
       "      <td>2.0</td>\n",
       "      <td>NaN</td>\n",
       "      <td>1.0</td>\n",
       "      <td>1.0</td>\n",
       "      <td>9.0</td>\n",
       "      <td>2011-01-01</td>\n",
       "      <td>2011</td>\n",
       "    </tr>\n",
       "    <tr>\n",
       "      <th>1</th>\n",
       "      <td>9.0</td>\n",
       "      <td>NaN</td>\n",
       "      <td>1.0</td>\n",
       "      <td>NaN</td>\n",
       "      <td>4.0</td>\n",
       "      <td>2.0</td>\n",
       "      <td>3.0</td>\n",
       "      <td>2.0</td>\n",
       "      <td>1.0</td>\n",
       "      <td>4.0</td>\n",
       "      <td>...</td>\n",
       "      <td>1.0</td>\n",
       "      <td>1.0</td>\n",
       "      <td>88.0</td>\n",
       "      <td>1.0</td>\n",
       "      <td>NaN</td>\n",
       "      <td>2.0</td>\n",
       "      <td>1.0</td>\n",
       "      <td>8.0</td>\n",
       "      <td>2011-01-01</td>\n",
       "      <td>2011</td>\n",
       "    </tr>\n",
       "    <tr>\n",
       "      <th>2</th>\n",
       "      <td>4.0</td>\n",
       "      <td>NaN</td>\n",
       "      <td>1.0</td>\n",
       "      <td>NaN</td>\n",
       "      <td>4.0</td>\n",
       "      <td>2.0</td>\n",
       "      <td>1.0</td>\n",
       "      <td>2.0</td>\n",
       "      <td>3.0</td>\n",
       "      <td>2.0</td>\n",
       "      <td>...</td>\n",
       "      <td>1.0</td>\n",
       "      <td>1.0</td>\n",
       "      <td>5.0</td>\n",
       "      <td>1.0</td>\n",
       "      <td>4.0</td>\n",
       "      <td>7.0</td>\n",
       "      <td>1.0</td>\n",
       "      <td>6.0</td>\n",
       "      <td>2011-01-01</td>\n",
       "      <td>2011</td>\n",
       "    </tr>\n",
       "    <tr>\n",
       "      <th>3</th>\n",
       "      <td>2.0</td>\n",
       "      <td>NaN</td>\n",
       "      <td>1.0</td>\n",
       "      <td>NaN</td>\n",
       "      <td>4.0</td>\n",
       "      <td>2.0</td>\n",
       "      <td>88.0</td>\n",
       "      <td>1.0</td>\n",
       "      <td>3.0</td>\n",
       "      <td>2.0</td>\n",
       "      <td>...</td>\n",
       "      <td>1.0</td>\n",
       "      <td>1.0</td>\n",
       "      <td>88.0</td>\n",
       "      <td>1.0</td>\n",
       "      <td>3.0</td>\n",
       "      <td>1.0</td>\n",
       "      <td>1.0</td>\n",
       "      <td>11.0</td>\n",
       "      <td>2011-01-01</td>\n",
       "      <td>2011</td>\n",
       "    </tr>\n",
       "    <tr>\n",
       "      <th>4</th>\n",
       "      <td>5.0</td>\n",
       "      <td>NaN</td>\n",
       "      <td>1.0</td>\n",
       "      <td>NaN</td>\n",
       "      <td>3.0</td>\n",
       "      <td>2.0</td>\n",
       "      <td>88.0</td>\n",
       "      <td>2.0</td>\n",
       "      <td>4.0</td>\n",
       "      <td>3.0</td>\n",
       "      <td>...</td>\n",
       "      <td>1.0</td>\n",
       "      <td>1.0</td>\n",
       "      <td>88.0</td>\n",
       "      <td>2.0</td>\n",
       "      <td>4.0</td>\n",
       "      <td>2.0</td>\n",
       "      <td>1.0</td>\n",
       "      <td>11.0</td>\n",
       "      <td>2011-01-01</td>\n",
       "      <td>2011</td>\n",
       "    </tr>\n",
       "  </tbody>\n",
       "</table>\n",
       "<p>5 rows × 36 columns</p>\n",
       "</div>"
      ],
      "text/plain": [
       "   _INCOMG  DIABAGE2  MARITAL  SCNTWRK1  _SMOKER3  CVDSTRK3  POORHLTH  SEX  \\\n",
       "0      4.0       NaN      3.0       NaN       4.0       2.0       NaN  2.0   \n",
       "1      9.0       NaN      1.0       NaN       4.0       2.0       3.0  2.0   \n",
       "2      4.0       NaN      1.0       NaN       4.0       2.0       1.0  2.0   \n",
       "3      2.0       NaN      1.0       NaN       4.0       2.0      88.0  1.0   \n",
       "4      5.0       NaN      1.0       NaN       3.0       2.0      88.0  2.0   \n",
       "\n",
       "   GENHLTH  EDUCA  ...  DRNKANY5  _LTASTH1  MENTHLTH  _TOTINDA  _BMI5CAT  \\\n",
       "0      3.0    2.0  ...       2.0       1.0      88.0       2.0       NaN   \n",
       "1      1.0    4.0  ...       1.0       1.0      88.0       1.0       NaN   \n",
       "2      3.0    2.0  ...       1.0       1.0       5.0       1.0       4.0   \n",
       "3      3.0    2.0  ...       1.0       1.0      88.0       1.0       3.0   \n",
       "4      4.0    3.0  ...       1.0       1.0      88.0       2.0       4.0   \n",
       "\n",
       "   HAVARTH3  HLTHPLN1  _AGEG5YR  month_year  year  \n",
       "0       1.0       1.0       9.0  2011-01-01  2011  \n",
       "1       2.0       1.0       8.0  2011-01-01  2011  \n",
       "2       7.0       1.0       6.0  2011-01-01  2011  \n",
       "3       1.0       1.0      11.0  2011-01-01  2011  \n",
       "4       2.0       1.0      11.0  2011-01-01  2011  \n",
       "\n",
       "[5 rows x 36 columns]"
      ]
     },
     "execution_count": 9,
     "metadata": {},
     "output_type": "execute_result"
    }
   ],
   "source": [
    "sample_df.head()"
   ]
  },
  {
   "cell_type": "code",
   "execution_count": 10,
   "metadata": {},
   "outputs": [
    {
     "name": "stdout",
     "output_type": "stream",
     "text": [
      "<class 'pandas.core.frame.DataFrame'>\n",
      "RangeIndex: 500000 entries, 0 to 499999\n",
      "Data columns (total 31 columns):\n",
      " #   Column                                                Non-Null Count   Dtype  \n",
      "---  ------                                                --------------   -----  \n",
      " 0   income                                                500000 non-null  float64\n",
      " 1   marital_status                                        499605 non-null  float64\n",
      " 2   smoker_status                                         500000 non-null  float64\n",
      " 3   stroke                                                500000 non-null  float64\n",
      " 4   poor_health_during_last_30_days                       256893 non-null  float64\n",
      " 5   sex                                                   500000 non-null  float64\n",
      " 6   general_health                                        499996 non-null  float64\n",
      " 7   education_level                                       500000 non-null  float64\n",
      " 8   current_smoker                                        500000 non-null  float64\n",
      " 9   skin_cancer                                           499999 non-null  float64\n",
      " 10  heart_attack                                          500000 non-null  float64\n",
      " 11  coronary_heart_disease                                500000 non-null  float64\n",
      " 12  asthma                                                500000 non-null  float64\n",
      " 13  state                                                 500000 non-null  float64\n",
      " 14  education_level.1                                     499389 non-null  float64\n",
      " 15  depressive_disorder                                   499997 non-null  float64\n",
      " 16  number_of_days_physical_health_not_good_last_30_days  500000 non-null  float64\n",
      " 17  activity_limitation                                   487461 non-null  float64\n",
      " 18  pre_diabetes                                          194649 non-null  float64\n",
      " 19  health_level                                          500000 non-null  float64\n",
      " 20  diabetes                                              500000 non-null  float64\n",
      " 21  number_of_days_alcohol_consumption_in_last_30_days    500000 non-null  float64\n",
      " 22  lifetime_asthma                                       500000 non-null  float64\n",
      " 23  number_of_days_mental_health_not_good                 500000 non-null  float64\n",
      " 24  physical_activity_during_last_30_days                 500000 non-null  float64\n",
      " 25  bmi_category                                          469593 non-null  float64\n",
      " 26  arthristis                                            500000 non-null  float64\n",
      " 27  healthcare_coverage                                   500000 non-null  float64\n",
      " 28  age_category                                          500000 non-null  float64\n",
      " 29  month_year                                            500000 non-null  object \n",
      " 30  year                                                  500000 non-null  int64  \n",
      "dtypes: float64(29), int64(1), object(1)\n",
      "memory usage: 118.3+ MB\n"
     ]
    }
   ],
   "source": [
    "modified_sample_df.info()\n"
   ]
  },
  {
   "cell_type": "code",
   "execution_count": 11,
   "metadata": {},
   "outputs": [
    {
     "data": {
      "text/plain": [
       "<bound method IndexOpsMixin.value_counts of 0         4.0\n",
       "1         9.0\n",
       "2         4.0\n",
       "3         2.0\n",
       "4         5.0\n",
       "         ... \n",
       "499995    5.0\n",
       "499996    2.0\n",
       "499997    5.0\n",
       "499998    5.0\n",
       "499999    5.0\n",
       "Name: income, Length: 500000, dtype: float64>"
      ]
     },
     "execution_count": 11,
     "metadata": {},
     "output_type": "execute_result"
    }
   ],
   "source": [
    "modified_sample_df['income'].value_counts\n"
   ]
  },
  {
   "cell_type": "code",
   "execution_count": 12,
   "metadata": {},
   "outputs": [
    {
     "data": {
      "text/plain": [
       "marital_status\n",
       "1.0    0.525591\n",
       "5.0    0.149596\n",
       "2.0    0.138644\n",
       "3.0    0.133213\n",
       "6.0    0.026287\n",
       "4.0    0.020874\n",
       "9.0    0.005795\n",
       "Name: proportion, dtype: float64"
      ]
     },
     "execution_count": 12,
     "metadata": {},
     "output_type": "execute_result"
    }
   ],
   "source": [
    "modified_sample_df['marital_status'].value_counts(normalize=True)\n",
    "# Keep top 4 marital status and group the rest into 'Other' 4 separated 6 member of unmarried couples"
   ]
  },
  {
   "cell_type": "code",
   "execution_count": 13,
   "metadata": {},
   "outputs": [
    {
     "data": {
      "text/plain": [
       "smoker_status\n",
       "4.0    0.536512\n",
       "3.0    0.282266\n",
       "1.0    0.110206\n",
       "2.0    0.042880\n",
       "9.0    0.028136\n",
       "Name: proportion, dtype: float64"
      ]
     },
     "execution_count": 13,
     "metadata": {},
     "output_type": "execute_result"
    }
   ],
   "source": [
    "modified_sample_df['smoker_status'].value_counts(normalize=True)\n",
    "# drop 9"
   ]
  },
  {
   "cell_type": "code",
   "execution_count": 14,
   "metadata": {},
   "outputs": [
    {
     "data": {
      "text/plain": [
       "stroke\n",
       "2.0    0.956274\n",
       "1.0    0.041140\n",
       "7.0    0.002464\n",
       "9.0    0.000122\n",
       "Name: proportion, dtype: float64"
      ]
     },
     "execution_count": 14,
     "metadata": {},
     "output_type": "execute_result"
    }
   ],
   "source": [
    "modified_sample_df['stroke'].value_counts(normalize=True)\n",
    "# Drop 7 & 9, possibly drop stroke all together "
   ]
  },
  {
   "cell_type": "code",
   "execution_count": 15,
   "metadata": {},
   "outputs": [
    {
     "data": {
      "text/plain": [
       "sex\n",
       "2.0    0.587738\n",
       "1.0    0.412262\n",
       "Name: proportion, dtype: float64"
      ]
     },
     "execution_count": 15,
     "metadata": {},
     "output_type": "execute_result"
    }
   ],
   "source": [
    "modified_sample_df['sex'].value_counts(normalize=True)"
   ]
  },
  {
   "cell_type": "code",
   "execution_count": 16,
   "metadata": {},
   "outputs": [
    {
     "data": {
      "text/plain": [
       "general_health\n",
       "2.0    0.323773\n",
       "3.0    0.306662\n",
       "1.0    0.176857\n",
       "4.0    0.133261\n",
       "5.0    0.055816\n",
       "7.0    0.001946\n",
       "9.0    0.001684\n",
       "Name: proportion, dtype: float64"
      ]
     },
     "execution_count": 16,
     "metadata": {},
     "output_type": "execute_result"
    }
   ],
   "source": [
    "modified_sample_df['general_health'].value_counts(normalize=True)\n",
    "# Drop 7 & 9"
   ]
  },
  {
   "cell_type": "code",
   "execution_count": 17,
   "metadata": {},
   "outputs": [
    {
     "data": {
      "text/plain": [
       "current_smoker\n",
       "1.0    0.818778\n",
       "2.0    0.153086\n",
       "9.0    0.028136\n",
       "Name: proportion, dtype: float64"
      ]
     },
     "execution_count": 17,
     "metadata": {},
     "output_type": "execute_result"
    }
   ],
   "source": [
    "modified_sample_df['current_smoker'].value_counts(normalize=True)\n",
    "# drop current_smoker "
   ]
  },
  {
   "cell_type": "code",
   "execution_count": 18,
   "metadata": {},
   "outputs": [
    {
     "data": {
      "text/plain": [
       "skin_cancer\n",
       "2.0    0.907192\n",
       "1.0    0.090496\n",
       "7.0    0.002188\n",
       "9.0    0.000124\n",
       "Name: proportion, dtype: float64"
      ]
     },
     "execution_count": 18,
     "metadata": {},
     "output_type": "execute_result"
    }
   ],
   "source": [
    "modified_sample_df['skin_cancer'].value_counts(normalize=True)\n",
    "# drop skin_cancer all together"
   ]
  },
  {
   "cell_type": "code",
   "execution_count": 19,
   "metadata": {},
   "outputs": [
    {
     "data": {
      "text/plain": [
       "heart_attack\n",
       "2.0    0.935928\n",
       "1.0    0.059548\n",
       "7.0    0.004256\n",
       "9.0    0.000268\n",
       "Name: proportion, dtype: float64"
      ]
     },
     "execution_count": 19,
     "metadata": {},
     "output_type": "execute_result"
    }
   ],
   "source": [
    "modified_sample_df['heart_attack'].value_counts(normalize=True)\n",
    "# drop 7 & 9, possibly drop heart_attack all together"
   ]
  },
  {
   "cell_type": "code",
   "execution_count": 20,
   "metadata": {},
   "outputs": [
    {
     "data": {
      "text/plain": [
       "coronary_heart_disease\n",
       "2.0    0.932018\n",
       "1.0    0.059740\n",
       "7.0    0.007984\n",
       "9.0    0.000258\n",
       "Name: proportion, dtype: float64"
      ]
     },
     "execution_count": 20,
     "metadata": {},
     "output_type": "execute_result"
    }
   ],
   "source": [
    "modified_sample_df['coronary_heart_disease'].value_counts(normalize=True)\n",
    "# drop 7 & 9, possibly drop coronary_heart_disease all together"
   ]
  },
  {
   "cell_type": "code",
   "execution_count": 21,
   "metadata": {},
   "outputs": [
    {
     "data": {
      "text/plain": [
       "asthma\n",
       "2.0    0.866492\n",
       "1.0    0.130796\n",
       "7.0    0.002598\n",
       "9.0    0.000114\n",
       "Name: proportion, dtype: float64"
      ]
     },
     "execution_count": 21,
     "metadata": {},
     "output_type": "execute_result"
    }
   ],
   "source": [
    "modified_sample_df['asthma'].value_counts(normalize=True)\n",
    "# drop 7 & 9, possibly drop all together refer to lifetime_asthma"
   ]
  },
  {
   "cell_type": "code",
   "execution_count": 22,
   "metadata": {},
   "outputs": [
    {
     "data": {
      "text/plain": [
       "depressive_disorder\n",
       "2.0    0.809581\n",
       "1.0    0.186169\n",
       "7.0    0.003434\n",
       "9.0    0.000816\n",
       "Name: proportion, dtype: float64"
      ]
     },
     "execution_count": 22,
     "metadata": {},
     "output_type": "execute_result"
    }
   ],
   "source": [
    "modified_sample_df['depressive_disorder'].value_counts(normalize=True)\n",
    "# drop 7 & 9"
   ]
  },
  {
   "cell_type": "code",
   "execution_count": 23,
   "metadata": {},
   "outputs": [
    {
     "data": {
      "text/plain": [
       "activity_limitation\n",
       "2.0    0.740554\n",
       "1.0    0.251542\n",
       "9.0    0.003955\n",
       "7.0    0.003949\n",
       "Name: proportion, dtype: float64"
      ]
     },
     "execution_count": 23,
     "metadata": {},
     "output_type": "execute_result"
    }
   ],
   "source": [
    "modified_sample_df['activity_limitation'].value_counts(normalize=True)\n",
    "# drop 7 & 9"
   ]
  },
  {
   "cell_type": "code",
   "execution_count": 24,
   "metadata": {},
   "outputs": [
    {
     "data": {
      "text/plain": [
       "pre_diabetes\n",
       "3.0    0.912997\n",
       "1.0    0.073460\n",
       "2.0    0.009997\n",
       "7.0    0.003314\n",
       "9.0    0.000231\n",
       "Name: proportion, dtype: float64"
      ]
     },
     "execution_count": 24,
     "metadata": {},
     "output_type": "execute_result"
    }
   ],
   "source": [
    "modified_sample_df['pre_diabetes'].value_counts(normalize=True)\n",
    "# drop 7 & 9, combine 1 & 2"
   ]
  },
  {
   "cell_type": "code",
   "execution_count": 25,
   "metadata": {},
   "outputs": [
    {
     "data": {
      "text/plain": [
       "diabetes\n",
       "3.0    0.868244\n",
       "1.0    0.131756\n",
       "Name: proportion, dtype: float64"
      ]
     },
     "execution_count": 25,
     "metadata": {},
     "output_type": "execute_result"
    }
   ],
   "source": [
    "modified_sample_df['diabetes'].value_counts(normalize=True)"
   ]
  },
  {
   "cell_type": "code",
   "execution_count": 26,
   "metadata": {},
   "outputs": [
    {
     "data": {
      "text/plain": [
       "lifetime_asthma\n",
       "1.0    0.866492\n",
       "2.0    0.130796\n",
       "9.0    0.002712\n",
       "Name: proportion, dtype: float64"
      ]
     },
     "execution_count": 26,
     "metadata": {},
     "output_type": "execute_result"
    }
   ],
   "source": [
    "modified_sample_df['lifetime_asthma'].value_counts(normalize=True)\n",
    "# drop 9, possibly drop lifetime_asthma all together refer to asthma "
   ]
  },
  {
   "cell_type": "code",
   "execution_count": 27,
   "metadata": {},
   "outputs": [
    {
     "data": {
      "text/plain": [
       "arthristis\n",
       "2.0    0.657174\n",
       "1.0    0.337354\n",
       "7.0    0.005228\n",
       "9.0    0.000244\n",
       "Name: proportion, dtype: float64"
      ]
     },
     "execution_count": 27,
     "metadata": {},
     "output_type": "execute_result"
    }
   ],
   "source": [
    "modified_sample_df['arthristis'].value_counts(normalize=True)\n",
    "# Drop 7 & 9"
   ]
  },
  {
   "cell_type": "code",
   "execution_count": 28,
   "metadata": {},
   "outputs": [
    {
     "data": {
      "text/plain": [
       "healthcare_coverage\n",
       "1.0    0.897596\n",
       "2.0    0.098676\n",
       "7.0    0.002052\n",
       "9.0    0.001676\n",
       "Name: proportion, dtype: float64"
      ]
     },
     "execution_count": 28,
     "metadata": {},
     "output_type": "execute_result"
    }
   ],
   "source": [
    "modified_sample_df['healthcare_coverage'].value_counts(normalize=True)\n",
    "# drop 7 & 9"
   ]
  },
  {
   "cell_type": "code",
   "execution_count": 29,
   "metadata": {},
   "outputs": [
    {
     "data": {
      "text/plain": [
       "poor_health_during_last_30_days\n",
       "88.0    0.558131\n",
       "30.0    0.086713\n",
       "2.0     0.053789\n",
       "1.0     0.048783\n",
       "5.0     0.035061\n",
       "3.0     0.033458\n",
       "15.0    0.031211\n",
       "10.0    0.029573\n",
       "20.0    0.020764\n",
       "4.0     0.018798\n",
       "7.0     0.018346\n",
       "77.0    0.017860\n",
       "14.0    0.010101\n",
       "25.0    0.008260\n",
       "6.0     0.005644\n",
       "99.0    0.005177\n",
       "8.0     0.004558\n",
       "21.0    0.002920\n",
       "12.0    0.002826\n",
       "28.0    0.001954\n",
       "9.0     0.000825\n",
       "18.0    0.000794\n",
       "29.0    0.000673\n",
       "16.0    0.000650\n",
       "27.0    0.000584\n",
       "17.0    0.000436\n",
       "22.0    0.000397\n",
       "26.0    0.000378\n",
       "13.0    0.000343\n",
       "24.0    0.000335\n",
       "23.0    0.000288\n",
       "11.0    0.000237\n",
       "19.0    0.000132\n",
       "Name: proportion, dtype: float64"
      ]
     },
     "execution_count": 29,
     "metadata": {},
     "output_type": "execute_result"
    }
   ],
   "source": [
    "modified_sample_df['poor_health_during_last_30_days'].value_counts(normalize=True)\n",
    "# possibly drop all together, 77 & 99, group: 1-10, 11-20, 21-30, 88(none)"
   ]
  },
  {
   "cell_type": "code",
   "execution_count": 30,
   "metadata": {},
   "outputs": [
    {
     "data": {
      "text/plain": [
       "activity_limitation\n",
       "2.0    0.740554\n",
       "1.0    0.251542\n",
       "9.0    0.003955\n",
       "7.0    0.003949\n",
       "Name: proportion, dtype: float64"
      ]
     },
     "execution_count": 30,
     "metadata": {},
     "output_type": "execute_result"
    }
   ],
   "source": [
    "modified_sample_df['activity_limitation'].value_counts(normalize=True)\n",
    "# drop 7 & 9"
   ]
  },
  {
   "cell_type": "code",
   "execution_count": 31,
   "metadata": {},
   "outputs": [
    {
     "data": {
      "text/plain": [
       "education_level\n",
       "4.0    0.352470\n",
       "2.0    0.288532\n",
       "3.0    0.270648\n",
       "1.0    0.083610\n",
       "9.0    0.004740\n",
       "Name: proportion, dtype: float64"
      ]
     },
     "execution_count": 31,
     "metadata": {},
     "output_type": "execute_result"
    }
   ],
   "source": [
    "modified_sample_df['education_level'].value_counts(normalize=True)\n",
    "# drop 9, EDUCAG (NOTATE: there are 2 'education_level' columns)"
   ]
  },
  {
   "cell_type": "code",
   "execution_count": 32,
   "metadata": {},
   "outputs": [
    {
     "data": {
      "text/plain": [
       "education_level.1\n",
       "6.0    0.352901\n",
       "4.0    0.288885\n",
       "5.0    0.270979\n",
       "3.0    0.055514\n",
       "2.0    0.026857\n",
       "9.0    0.003522\n",
       "1.0    0.001342\n",
       "Name: proportion, dtype: float64"
      ]
     },
     "execution_count": 32,
     "metadata": {},
     "output_type": "execute_result"
    }
   ],
   "source": [
    "modified_sample_df['education_level.1'].value_counts(normalize=True)\n",
    "# Drop 9, EDUCA (NOTATE: there are 2 'education_level' columns)"
   ]
  },
  {
   "cell_type": "code",
   "execution_count": 33,
   "metadata": {},
   "outputs": [
    {
     "data": {
      "text/plain": [
       "health_level\n",
       "1.0    0.807286\n",
       "2.0    0.189076\n",
       "9.0    0.003638\n",
       "Name: proportion, dtype: float64"
      ]
     },
     "execution_count": 33,
     "metadata": {},
     "output_type": "execute_result"
    }
   ],
   "source": [
    "modified_sample_df['health_level'].value_counts(normalize=True)\n",
    "# Drop 9"
   ]
  },
  {
   "cell_type": "code",
   "execution_count": 34,
   "metadata": {},
   "outputs": [
    {
     "data": {
      "text/plain": [
       "number_of_days_alcohol_consumption_in_last_30_days\n",
       "1.0    0.480836\n",
       "2.0    0.471410\n",
       "9.0    0.041454\n",
       "7.0    0.006300\n",
       "Name: proportion, dtype: float64"
      ]
     },
     "execution_count": 34,
     "metadata": {},
     "output_type": "execute_result"
    }
   ],
   "source": [
    "modified_sample_df['number_of_days_alcohol_consumption_in_last_30_days'].value_counts(normalize=True)\n",
    "# Drop 9 "
   ]
  },
  {
   "cell_type": "code",
   "execution_count": 35,
   "metadata": {},
   "outputs": [
    {
     "data": {
      "text/plain": [
       "physical_activity_during_last_30_days\n",
       "1.0    0.709902\n",
       "2.0    0.248854\n",
       "9.0    0.041244\n",
       "Name: proportion, dtype: float64"
      ]
     },
     "execution_count": 35,
     "metadata": {},
     "output_type": "execute_result"
    }
   ],
   "source": [
    "modified_sample_df['physical_activity_during_last_30_days'].value_counts(normalize=True)\n",
    "# Drop 9"
   ]
  },
  {
   "cell_type": "code",
   "execution_count": 36,
   "metadata": {},
   "outputs": [
    {
     "data": {
      "text/plain": [
       "state\n",
       "31.0    0.042594\n",
       "20.0    0.038680\n",
       "25.0    0.034820\n",
       "27.0    0.031994\n",
       "12.0    0.030842\n",
       "34.0    0.029256\n",
       "53.0    0.028718\n",
       "48.0    0.027794\n",
       "8.0     0.027500\n",
       "49.0    0.026558\n",
       "6.0     0.026082\n",
       "24.0    0.026008\n",
       "45.0    0.025160\n",
       "42.0    0.025034\n",
       "39.0    0.024606\n",
       "21.0    0.022234\n",
       "26.0    0.021940\n",
       "23.0    0.021032\n",
       "37.0    0.019276\n",
       "18.0    0.018970\n",
       "9.0     0.018354\n",
       "36.0    0.018254\n",
       "35.0    0.018014\n",
       "30.0    0.017790\n",
       "4.0     0.017400\n",
       "1.0     0.017050\n",
       "51.0    0.016924\n",
       "40.0    0.016832\n",
       "46.0    0.015904\n",
       "19.0    0.015696\n",
       "15.0    0.015374\n",
       "22.0    0.014834\n",
       "13.0    0.014564\n",
       "29.0    0.014454\n",
       "33.0    0.014204\n",
       "28.0    0.014052\n",
       "50.0    0.013920\n",
       "56.0    0.013336\n",
       "38.0    0.013098\n",
       "55.0    0.013064\n",
       "44.0    0.013050\n",
       "72.0    0.012896\n",
       "54.0    0.012240\n",
       "47.0    0.012230\n",
       "16.0    0.012182\n",
       "41.0    0.012082\n",
       "17.0    0.011238\n",
       "5.0     0.011212\n",
       "10.0    0.010056\n",
       "32.0    0.009086\n",
       "11.0    0.008752\n",
       "2.0     0.008588\n",
       "66.0    0.004172\n",
       "Name: proportion, dtype: float64"
      ]
     },
     "execution_count": 36,
     "metadata": {},
     "output_type": "execute_result"
    }
   ],
   "source": [
    "modified_sample_df['state'].value_counts(normalize=True)"
   ]
  },
  {
   "cell_type": "code",
   "execution_count": 37,
   "metadata": {},
   "outputs": [
    {
     "data": {
      "text/plain": [
       "bmi_category\n",
       "3.0    0.362062\n",
       "2.0    0.335261\n",
       "4.0    0.285552\n",
       "1.0    0.017125\n",
       "Name: proportion, dtype: float64"
      ]
     },
     "execution_count": 37,
     "metadata": {},
     "output_type": "execute_result"
    }
   ],
   "source": [
    "modified_sample_df['bmi_category'].value_counts(normalize=True)\n",
    "# keep as is"
   ]
  },
  {
   "cell_type": "code",
   "execution_count": 38,
   "metadata": {},
   "outputs": [],
   "source": [
    "# list of possible drops:\n",
    "# Definite drops ['education_level.1', 'health_level',  'lifetime_asthma', 'state', ''\n",
    "columns_to_drop = ['education_level.1', 'health_level', 'lifetime_asthma', 'poor_health_during_last_30_days', 'current_smoker', 'stroke', 'pre_diabetes']\n",
    "modified_sample_df.drop(columns=columns_to_drop, inplace=True)"
   ]
  },
  {
   "cell_type": "code",
   "execution_count": null,
   "metadata": {},
   "outputs": [],
   "source": []
  },
  {
   "cell_type": "code",
   "execution_count": 39,
   "metadata": {},
   "outputs": [
    {
     "data": {
      "text/plain": [
       "(500000, 24)"
      ]
     },
     "execution_count": 39,
     "metadata": {},
     "output_type": "execute_result"
    }
   ],
   "source": [
    "modified_sample_df.shape"
   ]
  },
  {
   "cell_type": "code",
   "execution_count": 40,
   "metadata": {},
   "outputs": [],
   "source": [
    "# Drop NA values\n",
    "# modified_sample_df.dropna(inplace=True)"
   ]
  },
  {
   "cell_type": "markdown",
   "metadata": {},
   "source": []
  },
  {
   "cell_type": "code",
   "execution_count": 41,
   "metadata": {},
   "outputs": [
    {
     "data": {
      "text/plain": [
       "(500000, 24)"
      ]
     },
     "execution_count": 41,
     "metadata": {},
     "output_type": "execute_result"
    }
   ],
   "source": [
    "modified_sample_df.shape"
   ]
  },
  {
   "cell_type": "code",
   "execution_count": 42,
   "metadata": {},
   "outputs": [
    {
     "data": {
      "text/plain": [
       "income                                                      0\n",
       "marital_status                                            395\n",
       "smoker_status                                               0\n",
       "sex                                                         0\n",
       "general_health                                              4\n",
       "education_level                                             0\n",
       "skin_cancer                                                 1\n",
       "heart_attack                                                0\n",
       "coronary_heart_disease                                      0\n",
       "asthma                                                      0\n",
       "state                                                       0\n",
       "depressive_disorder                                         3\n",
       "number_of_days_physical_health_not_good_last_30_days        0\n",
       "activity_limitation                                     12539\n",
       "diabetes                                                    0\n",
       "number_of_days_alcohol_consumption_in_last_30_days          0\n",
       "number_of_days_mental_health_not_good                       0\n",
       "physical_activity_during_last_30_days                       0\n",
       "bmi_category                                            30407\n",
       "arthristis                                                  0\n",
       "healthcare_coverage                                         0\n",
       "age_category                                                0\n",
       "month_year                                                  0\n",
       "year                                                        0\n",
       "dtype: int64"
      ]
     },
     "execution_count": 42,
     "metadata": {},
     "output_type": "execute_result"
    }
   ],
   "source": [
    "modified_sample_df.isnull().sum()"
   ]
  },
  {
   "cell_type": "code",
   "execution_count": 43,
   "metadata": {},
   "outputs": [],
   "source": [
    "# Drop null values\n",
    "modified_sample_df.dropna(inplace=True)"
   ]
  },
  {
   "cell_type": "code",
   "execution_count": 44,
   "metadata": {},
   "outputs": [
    {
     "data": {
      "text/plain": [
       "(461590, 24)"
      ]
     },
     "execution_count": 44,
     "metadata": {},
     "output_type": "execute_result"
    }
   ],
   "source": [
    "modified_sample_df.shape\n",
    "# Overall drop 7's & 9's\n",
    "# Keep top 4 marital status and group the rest into 'Other' 4 separated 6 member of unmarried couples\n",
    "# "
   ]
  }
 ],
 "metadata": {
  "kernelspec": {
   "display_name": "dev",
   "language": "python",
   "name": "python3"
  },
  "language_info": {
   "codemirror_mode": {
    "name": "ipython",
    "version": 3
   },
   "file_extension": ".py",
   "mimetype": "text/x-python",
   "name": "python",
   "nbconvert_exporter": "python",
   "pygments_lexer": "ipython3",
   "version": "3.10.13"
  }
 },
 "nbformat": 4,
 "nbformat_minor": 2
}
