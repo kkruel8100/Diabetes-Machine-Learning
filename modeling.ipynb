{
 "cells": [
  {
   "cell_type": "code",
   "execution_count": 1,
   "metadata": {},
   "outputs": [],
   "source": [
    "import pandas as pd\n",
    "import matplotlib.pyplot as plt"
   ]
  },
  {
   "cell_type": "code",
   "execution_count": 2,
   "metadata": {},
   "outputs": [
    {
     "name": "stdout",
     "output_type": "stream",
     "text": [
      "   _STATE  GENHLTH  HLTHPLN1  CVDINFR4  CVDCRHD4  CVDSTRK3  CHCSCNCR  \\\n",
      "0    22.0      4.0       2.0       2.0       2.0       2.0       2.0   \n",
      "1    31.0      1.0       1.0       2.0       2.0       1.0       2.0   \n",
      "2    11.0      1.0       1.0       2.0       2.0       2.0       2.0   \n",
      "3    66.0      3.0       2.0       2.0       2.0       2.0       2.0   \n",
      "4    20.0      2.0       2.0       2.0       2.0       2.0       2.0   \n",
      "\n",
      "   CHCOCNCR  ADDEPEV2  CHCKIDNY  ...  _AGE_G  _BMI5CAT  _EDUCAG  _INCOMG  \\\n",
      "0       2.0       2.0       2.0  ...     5.0       4.0      2.0      2.0   \n",
      "1       2.0       1.0       2.0  ...     6.0       2.0      2.0      1.0   \n",
      "2       2.0       2.0       2.0  ...     3.0       4.0      2.0     -1.0   \n",
      "3       2.0       2.0       2.0  ...     5.0       2.0      3.0      1.0   \n",
      "4       2.0       2.0       2.0  ...     3.0       2.0      2.0      3.0   \n",
      "\n",
      "   _SMOKER3  _TOTINDA  PHYSHLTH_30_day_range  MENTHLTH_30_day_range  \\\n",
      "0       2.0       2.0                   88.0                    2.0   \n",
      "1       4.0       2.0                    1.0                   88.0   \n",
      "2       2.0       1.0                   88.0                    1.0   \n",
      "3       4.0       2.0                   88.0                    1.0   \n",
      "4       4.0       1.0                   88.0                   88.0   \n",
      "\n",
      "   ALCDAY5_last_30_days  month_year_datetime  \n",
      "0                   2.0           2011-02-28  \n",
      "1                   2.0           2011-04-30  \n",
      "2                   1.0           2011-10-31  \n",
      "3                   2.0           2011-06-30  \n",
      "4                   1.0           2011-05-31  \n",
      "\n",
      "[5 rows x 30 columns]\n"
     ]
    },
    {
     "data": {
      "text/plain": [
       "Index(['_STATE', 'GENHLTH', 'HLTHPLN1', 'CVDINFR4', 'CVDCRHD4', 'CVDSTRK3',\n",
       "       'CHCSCNCR', 'CHCOCNCR', 'ADDEPEV2', 'CHCKIDNY', 'DIABETE3', 'SEX',\n",
       "       'MARITAL', 'QLACTLM2', 'USENOW3', 'EXERANY2', 'PNEUVAC3', '_RFHLTH',\n",
       "       '_ASTHMS1', '_DRDXAR1', '_AGE_G', '_BMI5CAT', '_EDUCAG', '_INCOMG',\n",
       "       '_SMOKER3', '_TOTINDA', 'PHYSHLTH_30_day_range',\n",
       "       'MENTHLTH_30_day_range', 'ALCDAY5_last_30_days', 'month_year_datetime'],\n",
       "      dtype='object')"
      ]
     },
     "execution_count": 2,
     "metadata": {},
     "output_type": "execute_result"
    }
   ],
   "source": [
    "df = pd.read_csv(\"datasets/cleaned_dataset.csv\")\n",
    "cleaned_df = df.copy()\n",
    "print(cleaned_df.head())\n",
    "cleaned_df.columns"
   ]
  },
  {
   "cell_type": "code",
   "execution_count": 4,
   "metadata": {},
   "outputs": [
    {
     "data": {
      "text/plain": [
       "<Axes: xlabel='DIABETE3'>"
      ]
     },
     "execution_count": 4,
     "metadata": {},
     "output_type": "execute_result"
    },
    {
     "data": {
      "image/png": "[encoded data removed]",
      "text/plain": [
       "<Figure size 640x480 with 1 Axes>"
      ]
     },
     "metadata": {},
     "output_type": "display_data"
    }
   ],
   "source": [
    "# Plot the distribution of the DIABETE3 column\n",
    "cleaned_df[\"DIABETE3\"].value_counts(normalize=True).plot(kind=\"bar\")"
   ]
  },
  {
   "cell_type": "code",
   "execution_count": 7,
   "metadata": {},
   "outputs": [
    {
     "name": "stdout",
     "output_type": "stream",
     "text": [
      "                         _STATE   GENHLTH  HLTHPLN1  CVDINFR4  CVDCRHD4  \\\n",
      "_STATE                 1.000000  0.015312  0.003430  0.000366 -0.001006   \n",
      "GENHLTH                0.015312  1.000000  0.045535 -0.184952 -0.194827   \n",
      "HLTHPLN1               0.003430  0.045535  1.000000  0.022948  0.032479   \n",
      "CVDINFR4               0.000366 -0.184952  0.022948  1.000000  0.379988   \n",
      "CVDCRHD4              -0.001006 -0.194827  0.032479  0.379988  1.000000   \n",
      "CVDSTRK3               0.002954 -0.156431  0.019854  0.205946  0.176733   \n",
      "CHCSCNCR               0.023878 -0.044726  0.054403  0.077218  0.091455   \n",
      "CHCOCNCR               0.016229 -0.130970  0.040960  0.080754  0.084532   \n",
      "ADDEPEV2              -0.006931 -0.220865 -0.022132  0.072086  0.079646   \n",
      "CHCKIDNY               0.008984 -0.135978  0.010698  0.113373  0.122298   \n",
      "DIABETE3              -0.002984 -0.251645  0.029634  0.131596  0.134530   \n",
      "SEX                   -0.001656  0.014250 -0.031856  0.058884  0.040060   \n",
      "MARITAL               -0.005599  0.055532  0.113085  0.006635  0.012158   \n",
      "QLACTLM2               0.023050 -0.286058  0.006805  0.103471  0.110006   \n",
      "USENOW3                0.019028 -0.007275 -0.013637  0.007322 -0.000906   \n",
      "EXERANY2               0.032952  0.171275  0.014705 -0.043967 -0.047759   \n",
      "PNEUVAC3               0.030321 -0.051549  0.025193  0.040534  0.044058   \n",
      "_RFHLTH                0.011889  0.772345  0.032464 -0.166483 -0.173260   \n",
      "_ASTHMS1               0.001888 -0.150376  0.000604  0.061187  0.069989   \n",
      "_DRDXAR1               0.007618 -0.284311  0.065180  0.125911  0.144393   \n",
      "_AGE_G                -0.020022  0.168032 -0.184803 -0.144536 -0.157581   \n",
      "_BMI5CAT               0.005934  0.116833 -0.001856 -0.030352 -0.037704   \n",
      "_EDUCAG               -0.023190 -0.270305 -0.129301  0.088255  0.071930   \n",
      "_INCOMG               -0.022691 -0.226673 -0.100204  0.083530  0.080335   \n",
      "_SMOKER3               0.020670 -0.132924 -0.084869  0.049123  0.031964   \n",
      "_TOTINDA               0.032952  0.171275  0.014705 -0.043967 -0.047759   \n",
      "PHYSHLTH_30_day_range  0.007235 -0.396232 -0.007259  0.103198  0.109657   \n",
      "MENTHLTH_30_day_range  0.009831 -0.202834 -0.057372  0.024446  0.027450   \n",
      "ALCDAY5_last_30_days   0.046072  0.133843 -0.003057 -0.041984 -0.045759   \n",
      "\n",
      "                       CVDSTRK3  CHCSCNCR  CHCOCNCR  ADDEPEV2  CHCKIDNY  ...  \\\n",
      "_STATE                 0.002954  0.023878  0.016229 -0.006931  0.008984  ...   \n",
      "GENHLTH               -0.156431 -0.044726 -0.130970 -0.220865 -0.135978  ...   \n",
      "HLTHPLN1               0.019854  0.054403  0.040960 -0.022132  0.010698  ...   \n",
      "CVDINFR4               0.205946  0.077218  0.080754  0.072086  0.113373  ...   \n",
      "CVDCRHD4               0.176733  0.091455  0.084532  0.079646  0.122298  ...   \n",
      "CVDSTRK3               1.000000  0.075911  0.087680  0.091267  0.109449  ...   \n",
      "CHCSCNCR               0.075911  1.000000  0.183105  0.056703  0.121564  ...   \n",
      "CHCOCNCR               0.087680  0.183105  1.000000  0.079919  0.145427  ...   \n",
      "ADDEPEV2               0.091267  0.056703  0.079919  1.000000  0.125922  ...   \n",
      "CHCKIDNY               0.109449  0.121564  0.145427  0.125922  1.000000  ...   \n",
      "DIABETE3               0.102875  0.058286  0.086972  0.089734  0.150855  ...   \n",
      "SEX                   -0.003209  0.023018 -0.037436 -0.090951 -0.005095  ...   \n",
      "MARITAL               -0.005732  0.048200  0.022920 -0.056378 -0.006354  ...   \n",
      "QLACTLM2               0.100755  0.048949  0.073303  0.164940  0.083906  ...   \n",
      "USENOW3                0.005121 -0.009464 -0.011635 -0.015227  0.001939  ...   \n",
      "EXERANY2              -0.041486 -0.006432 -0.032420 -0.063936 -0.034411  ...   \n",
      "PNEUVAC3               0.032980  0.023875  0.029127  0.013379  0.028589  ...   \n",
      "_RFHLTH               -0.141809 -0.033084 -0.104638 -0.192404 -0.125594  ...   \n",
      "_ASTHMS1               0.072247  0.026320  0.043959  0.136352  0.055585  ...   \n",
      "_DRDXAR1               0.119201  0.138830  0.140983  0.182994  0.140760  ...   \n",
      "_AGE_G                -0.115032 -0.196275 -0.173785  0.020533 -0.072044  ...   \n",
      "_BMI5CAT              -0.011712  0.001940 -0.003465 -0.049065 -0.014944  ...   \n",
      "_EDUCAG                0.069862 -0.021020  0.021422  0.055859  0.045806  ...   \n",
      "_INCOMG                0.083890  0.012318  0.049439  0.080451  0.056042  ...   \n",
      "_SMOKER3               0.039761 -0.008887  0.015563  0.098135  0.013397  ...   \n",
      "_TOTINDA              -0.041486 -0.006432 -0.032420 -0.063936 -0.034411  ...   \n",
      "PHYSHLTH_30_day_range  0.099304  0.031607  0.076069  0.205651  0.091373  ...   \n",
      "MENTHLTH_30_day_range  0.041555 -0.021073  0.009288  0.350642  0.036196  ...   \n",
      "ALCDAY5_last_30_days  -0.040116 -0.006127 -0.029768 -0.047938 -0.030893  ...   \n",
      "\n",
      "                       _DRDXAR1    _AGE_G  _BMI5CAT   _EDUCAG   _INCOMG  \\\n",
      "_STATE                 0.007618 -0.020022  0.005934 -0.023190 -0.022691   \n",
      "GENHLTH               -0.284311  0.168032  0.116833 -0.270305 -0.226673   \n",
      "HLTHPLN1               0.065180 -0.184803 -0.001856 -0.129301 -0.100204   \n",
      "CVDINFR4               0.125911 -0.144536 -0.030352  0.088255  0.083530   \n",
      "CVDCRHD4               0.144393 -0.157581 -0.037704  0.071930  0.080335   \n",
      "CVDSTRK3               0.119201 -0.115032 -0.011712  0.069862  0.083890   \n",
      "CHCSCNCR               0.138830 -0.196275  0.001940 -0.021020  0.012318   \n",
      "CHCOCNCR               0.140983 -0.173785 -0.003465  0.021422  0.049439   \n",
      "ADDEPEV2               0.182994  0.020533 -0.049065  0.055859  0.080451   \n",
      "CHCKIDNY               0.140760 -0.072044 -0.014944  0.045806  0.056042   \n",
      "DIABETE3               0.156261 -0.175122 -0.110933  0.098206  0.086883   \n",
      "SEX                   -0.090814  0.063453 -0.150376 -0.019285 -0.117611   \n",
      "MARITAL                0.039435 -0.269067 -0.012177 -0.090399 -0.196854   \n",
      "QLACTLM2               0.215960 -0.107521  0.066137  0.118484  0.182054   \n",
      "USENOW3               -0.019382  0.043344  0.139472  0.081403  0.096073   \n",
      "EXERANY2              -0.094338  0.091083  0.109972 -0.100442 -0.035648   \n",
      "PNEUVAC3               0.032807  0.003397  0.076429  0.042138  0.110548   \n",
      "_RFHLTH               -0.226860  0.130035  0.074540 -0.209162 -0.186745   \n",
      "_ASTHMS1               0.107235  0.031214 -0.033820  0.036502  0.058409   \n",
      "_DRDXAR1               1.000000 -0.332999 -0.084069  0.105563  0.116841   \n",
      "_AGE_G                -0.332999  1.000000  0.062400 -0.049597 -0.083785   \n",
      "_BMI5CAT              -0.084069  0.062400  1.000000  0.005422  0.133985   \n",
      "_EDUCAG                0.105563 -0.049597  0.005422  1.000000  0.345206   \n",
      "_INCOMG                0.116841 -0.083785  0.133985  0.345206  1.000000   \n",
      "_SMOKER3               0.044511  0.017169  0.080976  0.181130  0.124215   \n",
      "_TOTINDA              -0.094338  0.091083  0.109972 -0.100442 -0.035648   \n",
      "PHYSHLTH_30_day_range  0.220431 -0.044605 -0.059685  0.087883  0.110768   \n",
      "MENTHLTH_30_day_range  0.077305  0.153209 -0.027591  0.039319  0.053743   \n",
      "ALCDAY5_last_30_days  -0.083873  0.098448  0.113943 -0.090989 -0.055695   \n",
      "\n",
      "                       _SMOKER3  _TOTINDA  PHYSHLTH_30_day_range  \\\n",
      "_STATE                 0.020670  0.032952               0.007235   \n",
      "GENHLTH               -0.132924  0.171275              -0.396232   \n",
      "HLTHPLN1              -0.084869  0.014705              -0.007259   \n",
      "CVDINFR4               0.049123 -0.043967               0.103198   \n",
      "CVDCRHD4               0.031964 -0.047759               0.109657   \n",
      "CVDSTRK3               0.039761 -0.041486               0.099304   \n",
      "CHCSCNCR              -0.008887 -0.006432               0.031607   \n",
      "CHCOCNCR               0.015563 -0.032420               0.076069   \n",
      "ADDEPEV2               0.098135 -0.063936               0.205651   \n",
      "CHCKIDNY               0.013397 -0.034411               0.091373   \n",
      "DIABETE3               0.008640 -0.073062               0.125080   \n",
      "SEX                    0.068711  0.034535              -0.062397   \n",
      "MARITAL               -0.052511  0.009497              -0.045397   \n",
      "QLACTLM2               0.302429  0.146078               0.235364   \n",
      "USENOW3                0.486150  0.242684              -0.011206   \n",
      "EXERANY2               0.090146  1.000000              -0.097580   \n",
      "PNEUVAC3               0.179319  0.306332               0.032766   \n",
      "_RFHLTH               -0.096823  0.143971              -0.357367   \n",
      "_ASTHMS1               0.034093 -0.032976               0.141694   \n",
      "_DRDXAR1               0.044511 -0.094338               0.220431   \n",
      "_AGE_G                 0.017169  0.091083              -0.044605   \n",
      "_BMI5CAT               0.080976  0.109972              -0.059685   \n",
      "_EDUCAG                0.181130 -0.100442               0.087883   \n",
      "_INCOMG                0.124215 -0.035648               0.110768   \n",
      "_SMOKER3               1.000000  0.090146               0.057145   \n",
      "_TOTINDA               0.090146  1.000000              -0.097580   \n",
      "PHYSHLTH_30_day_range  0.057145 -0.097580               1.000000   \n",
      "MENTHLTH_30_day_range  0.072310 -0.040946               0.271417   \n",
      "ALCDAY5_last_30_days   0.307284  0.332707              -0.071118   \n",
      "\n",
      "                       MENTHLTH_30_day_range  ALCDAY5_last_30_days  \n",
      "_STATE                              0.009831              0.046072  \n",
      "GENHLTH                            -0.202834              0.133843  \n",
      "HLTHPLN1                           -0.057372             -0.003057  \n",
      "CVDINFR4                            0.024446             -0.041984  \n",
      "CVDCRHD4                            0.027450             -0.045759  \n",
      "CVDSTRK3                            0.041555             -0.040116  \n",
      "CHCSCNCR                           -0.021073             -0.006127  \n",
      "CHCOCNCR                            0.009288             -0.029768  \n",
      "ADDEPEV2                            0.350642             -0.047938  \n",
      "CHCKIDNY                            0.036196             -0.030893  \n",
      "DIABETE3                            0.025233             -0.095478  \n",
      "SEX                                -0.093165              0.098982  \n",
      "MARITAL                            -0.102702              0.015016  \n",
      "QLACTLM2                            0.124542              0.320232  \n",
      "USENOW3                            -0.012400              0.467298  \n",
      "EXERANY2                           -0.040946              0.332707  \n",
      "PNEUVAC3                            0.003381              0.282310  \n",
      "_RFHLTH                            -0.175952              0.114481  \n",
      "_ASTHMS1                            0.105124             -0.030361  \n",
      "_DRDXAR1                            0.077305             -0.083873  \n",
      "_AGE_G                              0.153209              0.098448  \n",
      "_BMI5CAT                           -0.027591              0.113943  \n",
      "_EDUCAG                             0.039319             -0.090989  \n",
      "_INCOMG                             0.053743             -0.055695  \n",
      "_SMOKER3                            0.072310              0.307284  \n",
      "_TOTINDA                           -0.040946              0.332707  \n",
      "PHYSHLTH_30_day_range               0.271417             -0.071118  \n",
      "MENTHLTH_30_day_range               1.000000             -0.011647  \n",
      "ALCDAY5_last_30_days               -0.011647              1.000000  \n",
      "\n",
      "[29 rows x 29 columns]\n"
     ]
    }
   ],
   "source": [
    "# Get numeric columns for correlation\n",
    "numeric_columns = cleaned_df.select_dtypes(include=\"number\").columns.to_list()\n",
    "\n",
    "# Correlation matrix\n",
    "correlation_matrix = cleaned_df[numeric_columns].corr()\n",
    "print(correlation_matrix)"
   ]
  },
  {
   "cell_type": "code",
   "execution_count": 51,
   "metadata": {},
   "outputs": [
    {
     "name": "stdout",
     "output_type": "stream",
     "text": [
      "Moderate or Strong correlation between DIABETE3 and DIABETE3: 1.0\n"
     ]
    }
   ],
   "source": [
    "for column in numeric_columns:\n",
    "    correlation_matrix = cleaned_df[\"DIABETE3\"].corr(cleaned_df[column])\n",
    "    if abs(correlation_matrix) > 0.3:\n",
    "        print(f\"Moderate or Strong correlation between DIABETE3 and {column}: {correlation_matrix}\")"
   ]
  },
  {
   "cell_type": "code",
   "execution_count": 52,
   "metadata": {},
   "outputs": [
    {
     "data": {
      "text/plain": [
       "Index(['_STATE', 'GENHLTH', 'HLTHPLN1', 'CVDINFR4', 'CVDCRHD4', 'CVDSTRK3',\n",
       "       'CHCSCNCR', 'CHCOCNCR', 'ADDEPEV2', 'CHCKIDNY', 'DIABETE3', 'SEX',\n",
       "       'MARITAL', 'QLACTLM2', 'USENOW3', 'EXERANY2', 'PNEUVAC3', '_RFHLTH',\n",
       "       '_ASTHMS1', '_DRDXAR1', '_AGE_G', '_BMI5CAT', '_EDUCAG', '_INCOMG',\n",
       "       '_SMOKER3', '_TOTINDA', 'PHYSHLTH_30_day_range',\n",
       "       'MENTHLTH_30_day_range', 'ALCDAY5_last_30_days', 'month_year_datetime'],\n",
       "      dtype='object')"
      ]
     },
     "execution_count": 52,
     "metadata": {},
     "output_type": "execute_result"
    }
   ],
   "source": [
    "cleaned_df.columns"
   ]
  },
  {
   "cell_type": "markdown",
   "metadata": {},
   "source": [
    "Reviewing the correlation results DIABETE3 has no moderate, strong, or perfect correlation between any of the remaining columns from the combined and filtered dataset.\n",
    "\n",
    "The remaining columns while many may be comorbidity conditions, the majority are not indicative of lifestyle. Most of the columns from the original dataset that address lifestyle, such as dietary, exercise, doctors, etc do not exist across all 5 years.\n",
    "\n",
    "Determination that the survey results over multiple years does not provide an adequate amount of information to preceed with this data."
   ]
  },
  {
   "cell_type": "markdown",
   "metadata": {},
   "source": []
  },
  {
   "cell_type": "markdown",
   "metadata": {},
   "source": [
    "Will shift to a dataset that uses the same source but is only using 2015."
   ]
  },
  {
   "cell_type": "code",
   "execution_count": 48,
   "metadata": {},
   "outputs": [
    {
     "name": "stdout",
     "output_type": "stream",
     "text": [
      "   Diabetes_binary  HighBP  HighChol  CholCheck   BMI  Smoker  Stroke  \\\n",
      "0              0.0     1.0       1.0        1.0  40.0     1.0     0.0   \n",
      "1              0.0     0.0       0.0        0.0  25.0     1.0     0.0   \n",
      "2              0.0     1.0       1.0        1.0  28.0     0.0     0.0   \n",
      "3              0.0     1.0       0.0        1.0  27.0     0.0     0.0   \n",
      "4              0.0     1.0       1.0        1.0  24.0     0.0     0.0   \n",
      "\n",
      "   HeartDiseaseorAttack  PhysActivity  Fruits  ...  AnyHealthcare  \\\n",
      "0                   0.0           0.0     0.0  ...            1.0   \n",
      "1                   0.0           1.0     0.0  ...            0.0   \n",
      "2                   0.0           0.0     1.0  ...            1.0   \n",
      "3                   0.0           1.0     1.0  ...            1.0   \n",
      "4                   0.0           1.0     1.0  ...            1.0   \n",
      "\n",
      "   NoDocbcCost  GenHlth  MentHlth  PhysHlth  DiffWalk  Sex   Age  Education  \\\n",
      "0          0.0      5.0      18.0      15.0       1.0  0.0   9.0        4.0   \n",
      "1          1.0      3.0       0.0       0.0       0.0  0.0   7.0        6.0   \n",
      "2          1.0      5.0      30.0      30.0       1.0  0.0   9.0        4.0   \n",
      "3          0.0      2.0       0.0       0.0       0.0  0.0  11.0        3.0   \n",
      "4          0.0      2.0       3.0       0.0       0.0  0.0  11.0        5.0   \n",
      "\n",
      "   Income  \n",
      "0     3.0  \n",
      "1     1.0  \n",
      "2     8.0  \n",
      "3     6.0  \n",
      "4     4.0  \n",
      "\n",
      "[5 rows x 22 columns]\n"
     ]
    },
    {
     "data": {
      "text/plain": [
       "(253680, 22)"
      ]
     },
     "execution_count": 48,
     "metadata": {},
     "output_type": "execute_result"
    }
   ],
   "source": [
    "df = pd.read_csv(\"datasets/diabetes_binary_health_indicators_BRFSS2015.csv\")\n",
    "diabetes_binary_2015 = df.copy()\n",
    "print(diabetes_binary_2015.head())\n",
    "diabetes_binary_2015.shape\n"
   ]
  },
  {
   "cell_type": "code",
   "execution_count": 50,
   "metadata": {},
   "outputs": [
    {
     "name": "stdout",
     "output_type": "stream",
     "text": [
      "                      Diabetes_binary    HighBP  HighChol  CholCheck  \\\n",
      "Diabetes_binary              1.000000  0.263129  0.200276   0.064761   \n",
      "HighBP                       0.263129  1.000000  0.298199   0.098508   \n",
      "HighChol                     0.200276  0.298199  1.000000   0.085642   \n",
      "CholCheck                    0.064761  0.098508  0.085642   1.000000   \n",
      "BMI                          0.216843  0.213748  0.106722   0.034495   \n",
      "Smoker                       0.060789  0.096991  0.091299  -0.009929   \n",
      "Stroke                       0.105816  0.129575  0.092620   0.024158   \n",
      "HeartDiseaseorAttack         0.177282  0.209361  0.180765   0.044206   \n",
      "PhysActivity                -0.118133 -0.125267 -0.078046   0.004190   \n",
      "Fruits                      -0.040779 -0.040555 -0.040859   0.023849   \n",
      "Veggies                     -0.056584 -0.061266 -0.039874   0.006121   \n",
      "HvyAlcoholConsump           -0.057056 -0.003972 -0.011543  -0.023730   \n",
      "AnyHealthcare                0.016255  0.038425  0.042230   0.117626   \n",
      "NoDocbcCost                  0.031433  0.017358  0.013310  -0.058255   \n",
      "GenHlth                      0.293569  0.300530  0.208426   0.046589   \n",
      "MentHlth                     0.069315  0.056456  0.062069  -0.008366   \n",
      "PhysHlth                     0.171337  0.161212  0.121751   0.031775   \n",
      "DiffWalk                     0.218344  0.223618  0.144672   0.040585   \n",
      "Sex                          0.031430  0.052207  0.031205  -0.022115   \n",
      "Age                          0.177442  0.344452  0.272318   0.090321   \n",
      "Education                   -0.124456 -0.141358 -0.070802   0.001510   \n",
      "Income                      -0.163919 -0.171235 -0.085459   0.014259   \n",
      "\n",
      "                           BMI    Smoker    Stroke  HeartDiseaseorAttack  \\\n",
      "Diabetes_binary       0.216843  0.060789  0.105816              0.177282   \n",
      "HighBP                0.213748  0.096991  0.129575              0.209361   \n",
      "HighChol              0.106722  0.091299  0.092620              0.180765   \n",
      "CholCheck             0.034495 -0.009929  0.024158              0.044206   \n",
      "BMI                   1.000000  0.013804  0.020153              0.052904   \n",
      "Smoker                0.013804  1.000000  0.061173              0.114441   \n",
      "Stroke                0.020153  0.061173  1.000000              0.203002   \n",
      "HeartDiseaseorAttack  0.052904  0.114441  0.203002              1.000000   \n",
      "PhysActivity         -0.147294 -0.087401 -0.069151             -0.087299   \n",
      "Fruits               -0.087518 -0.077666 -0.013389             -0.019790   \n",
      "Veggies              -0.062275 -0.030678 -0.041124             -0.039167   \n",
      "HvyAlcoholConsump    -0.048736  0.101619 -0.016950             -0.028991   \n",
      "AnyHealthcare        -0.018471 -0.023251  0.008776              0.018734   \n",
      "NoDocbcCost           0.058206  0.048946  0.034804              0.031000   \n",
      "GenHlth               0.239185  0.163143  0.177942              0.258383   \n",
      "MentHlth              0.085310  0.092196  0.070172              0.064621   \n",
      "PhysHlth              0.121141  0.116460  0.148944              0.181698   \n",
      "DiffWalk              0.197078  0.122463  0.176567              0.212709   \n",
      "Sex                   0.042950  0.093662  0.002978              0.086096   \n",
      "Age                  -0.036618  0.120641  0.126974              0.221618   \n",
      "Education            -0.103932 -0.161955 -0.076009             -0.099600   \n",
      "Income               -0.100069 -0.123937 -0.128599             -0.141011   \n",
      "\n",
      "                      PhysActivity    Fruits  ...  AnyHealthcare  NoDocbcCost  \\\n",
      "Diabetes_binary          -0.118133 -0.040779  ...       0.016255     0.031433   \n",
      "HighBP                   -0.125267 -0.040555  ...       0.038425     0.017358   \n",
      "HighChol                 -0.078046 -0.040859  ...       0.042230     0.013310   \n",
      "CholCheck                 0.004190  0.023849  ...       0.117626    -0.058255   \n",
      "BMI                      -0.147294 -0.087518  ...      -0.018471     0.058206   \n",
      "Smoker                   -0.087401 -0.077666  ...      -0.023251     0.048946   \n",
      "Stroke                   -0.069151 -0.013389  ...       0.008776     0.034804   \n",
      "HeartDiseaseorAttack     -0.087299 -0.019790  ...       0.018734     0.031000   \n",
      "PhysActivity              1.000000  0.142756  ...       0.035505    -0.061638   \n",
      "Fruits                    0.142756  1.000000  ...       0.031544    -0.044243   \n",
      "Veggies                   0.153150  0.254342  ...       0.029584    -0.032232   \n",
      "HvyAlcoholConsump         0.012392 -0.035288  ...      -0.010488     0.004684   \n",
      "AnyHealthcare             0.035505  0.031544  ...       1.000000    -0.232532   \n",
      "NoDocbcCost              -0.061638 -0.044243  ...      -0.232532     1.000000   \n",
      "GenHlth                  -0.266186 -0.103854  ...      -0.040817     0.166397   \n",
      "MentHlth                 -0.125587 -0.068217  ...      -0.052707     0.192107   \n",
      "PhysHlth                 -0.219230 -0.044633  ...      -0.008276     0.148998   \n",
      "DiffWalk                 -0.253174 -0.048352  ...       0.007074     0.118447   \n",
      "Sex                       0.032482 -0.091175  ...      -0.019405    -0.044931   \n",
      "Age                      -0.092511  0.064547  ...       0.138046    -0.119777   \n",
      "Education                 0.199658  0.110187  ...       0.122514    -0.100701   \n",
      "Income                    0.198539  0.079929  ...       0.157999    -0.203182   \n",
      "\n",
      "                       GenHlth  MentHlth  PhysHlth  DiffWalk       Sex  \\\n",
      "Diabetes_binary       0.293569  0.069315  0.171337  0.218344  0.031430   \n",
      "HighBP                0.300530  0.056456  0.161212  0.223618  0.052207   \n",
      "HighChol              0.208426  0.062069  0.121751  0.144672  0.031205   \n",
      "CholCheck             0.046589 -0.008366  0.031775  0.040585 -0.022115   \n",
      "BMI                   0.239185  0.085310  0.121141  0.197078  0.042950   \n",
      "Smoker                0.163143  0.092196  0.116460  0.122463  0.093662   \n",
      "Stroke                0.177942  0.070172  0.148944  0.176567  0.002978   \n",
      "HeartDiseaseorAttack  0.258383  0.064621  0.181698  0.212709  0.086096   \n",
      "PhysActivity         -0.266186 -0.125587 -0.219230 -0.253174  0.032482   \n",
      "Fruits               -0.103854 -0.068217 -0.044633 -0.048352 -0.091175   \n",
      "Veggies              -0.123066 -0.058884 -0.064290 -0.080506 -0.064765   \n",
      "HvyAlcoholConsump    -0.036724  0.024716 -0.026415 -0.037668  0.005740   \n",
      "AnyHealthcare        -0.040817 -0.052707 -0.008276  0.007074 -0.019405   \n",
      "NoDocbcCost           0.166397  0.192107  0.148998  0.118447 -0.044931   \n",
      "GenHlth               1.000000  0.301674  0.524364  0.456920 -0.006091   \n",
      "MentHlth              0.301674  1.000000  0.353619  0.233688 -0.080705   \n",
      "PhysHlth              0.524364  0.353619  1.000000  0.478417 -0.043137   \n",
      "DiffWalk              0.456920  0.233688  0.478417  1.000000 -0.070299   \n",
      "Sex                  -0.006091 -0.080705 -0.043137 -0.070299  1.000000   \n",
      "Age                   0.152450 -0.092068  0.099130  0.204450 -0.027340   \n",
      "Education            -0.284912 -0.101830 -0.155093 -0.192642  0.019480   \n",
      "Income               -0.370014 -0.209806 -0.266799 -0.320124  0.127141   \n",
      "\n",
      "                           Age  Education    Income  \n",
      "Diabetes_binary       0.177442  -0.124456 -0.163919  \n",
      "HighBP                0.344452  -0.141358 -0.171235  \n",
      "HighChol              0.272318  -0.070802 -0.085459  \n",
      "CholCheck             0.090321   0.001510  0.014259  \n",
      "BMI                  -0.036618  -0.103932 -0.100069  \n",
      "Smoker                0.120641  -0.161955 -0.123937  \n",
      "Stroke                0.126974  -0.076009 -0.128599  \n",
      "HeartDiseaseorAttack  0.221618  -0.099600 -0.141011  \n",
      "PhysActivity         -0.092511   0.199658  0.198539  \n",
      "Fruits                0.064547   0.110187  0.079929  \n",
      "Veggies              -0.009771   0.154329  0.151087  \n",
      "HvyAlcoholConsump    -0.034578   0.023997  0.053619  \n",
      "AnyHealthcare         0.138046   0.122514  0.157999  \n",
      "NoDocbcCost          -0.119777  -0.100701 -0.203182  \n",
      "GenHlth               0.152450  -0.284912 -0.370014  \n",
      "MentHlth             -0.092068  -0.101830 -0.209806  \n",
      "PhysHlth              0.099130  -0.155093 -0.266799  \n",
      "DiffWalk              0.204450  -0.192642 -0.320124  \n",
      "Sex                  -0.027340   0.019480  0.127141  \n",
      "Age                   1.000000  -0.101901 -0.127775  \n",
      "Education            -0.101901   1.000000  0.449106  \n",
      "Income               -0.127775   0.449106  1.000000  \n",
      "\n",
      "[22 rows x 22 columns]\n"
     ]
    }
   ],
   "source": [
    "diabetes_correlation_matrix = diabetes_binary_2015.corr()\n",
    "print(diabetes_correlation_matrix)"
   ]
  },
  {
   "cell_type": "code",
   "execution_count": 53,
   "metadata": {},
   "outputs": [
    {
     "data": {
      "text/plain": [
       "Index(['Diabetes_binary', 'HighBP', 'HighChol', 'CholCheck', 'BMI', 'Smoker',\n",
       "       'Stroke', 'HeartDiseaseorAttack', 'PhysActivity', 'Fruits', 'Veggies',\n",
       "       'HvyAlcoholConsump', 'AnyHealthcare', 'NoDocbcCost', 'GenHlth',\n",
       "       'MentHlth', 'PhysHlth', 'DiffWalk', 'Sex', 'Age', 'Education',\n",
       "       'Income'],\n",
       "      dtype='object')"
      ]
     },
     "execution_count": 53,
     "metadata": {},
     "output_type": "execute_result"
    }
   ],
   "source": [
    "diabetes_binary_2015.columns"
   ]
  }
 ],
 "metadata": {
  "kernelspec": {
   "display_name": "dev",
   "language": "python",
   "name": "python3"
  },
  "language_info": {
   "codemirror_mode": {
    "name": "ipython",
    "version": 3
   },
   "file_extension": ".py",
   "mimetype": "text/x-python",
   "name": "python",
   "nbconvert_exporter": "python",
   "pygments_lexer": "ipython3",
   "version": "3.10.13"
  }
 },
 "nbformat": 4,
 "nbformat_minor": 2
}
