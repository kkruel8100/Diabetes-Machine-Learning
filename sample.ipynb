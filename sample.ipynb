{
 "cells": [
  {
   "cell_type": "code",
   "execution_count": 1,
   "metadata": {},
   "outputs": [],
   "source": [
    "import pandas as pd\n",
    "from utils.sample_cleaning_utils import clean_data"
   ]
  },
  {
   "cell_type": "code",
   "execution_count": 2,
   "metadata": {},
   "outputs": [
    {
     "data": {
      "text/html": [
       "<div>\n",
       "<style scoped>\n",
       "    .dataframe tbody tr th:only-of-type {\n",
       "        vertical-align: middle;\n",
       "    }\n",
       "\n",
       "    .dataframe tbody tr th {\n",
       "        vertical-align: top;\n",
       "    }\n",
       "\n",
       "    .dataframe thead th {\n",
       "        text-align: right;\n",
       "    }\n",
       "</style>\n",
       "<table border=\"1\" class=\"dataframe\">\n",
       "  <thead>\n",
       "    <tr style=\"text-align: right;\">\n",
       "      <th></th>\n",
       "      <th>_STATE</th>\n",
       "      <th>GENHLTH</th>\n",
       "      <th>PHYSHLTH</th>\n",
       "      <th>MENTHLTH</th>\n",
       "      <th>HLTHPLN1</th>\n",
       "      <th>CVDINFR4</th>\n",
       "      <th>CVDCRHD4</th>\n",
       "      <th>CVDSTRK3</th>\n",
       "      <th>ASTHMA3</th>\n",
       "      <th>CHCSCNCR</th>\n",
       "      <th>...</th>\n",
       "      <th>_AGE_G</th>\n",
       "      <th>_BMI5CAT</th>\n",
       "      <th>_EDUCAG</th>\n",
       "      <th>_INCOMG</th>\n",
       "      <th>_SMOKER3</th>\n",
       "      <th>DRNKANY5</th>\n",
       "      <th>DROCDY3_</th>\n",
       "      <th>_TOTINDA</th>\n",
       "      <th>calculated_month</th>\n",
       "      <th>calculated_year</th>\n",
       "    </tr>\n",
       "  </thead>\n",
       "  <tbody>\n",
       "    <tr>\n",
       "      <th>0</th>\n",
       "      <td>22.0</td>\n",
       "      <td>4.0</td>\n",
       "      <td>88.0</td>\n",
       "      <td>13.0</td>\n",
       "      <td>2.0</td>\n",
       "      <td>2.0</td>\n",
       "      <td>2.0</td>\n",
       "      <td>2.0</td>\n",
       "      <td>2.0</td>\n",
       "      <td>2.0</td>\n",
       "      <td>...</td>\n",
       "      <td>5.0</td>\n",
       "      <td>4.0</td>\n",
       "      <td>2.0</td>\n",
       "      <td>2.0</td>\n",
       "      <td>2.0</td>\n",
       "      <td>2.0</td>\n",
       "      <td>5.397605e-79</td>\n",
       "      <td>2.0</td>\n",
       "      <td>2</td>\n",
       "      <td>2011</td>\n",
       "    </tr>\n",
       "    <tr>\n",
       "      <th>1</th>\n",
       "      <td>31.0</td>\n",
       "      <td>1.0</td>\n",
       "      <td>2.0</td>\n",
       "      <td>88.0</td>\n",
       "      <td>1.0</td>\n",
       "      <td>2.0</td>\n",
       "      <td>2.0</td>\n",
       "      <td>1.0</td>\n",
       "      <td>2.0</td>\n",
       "      <td>2.0</td>\n",
       "      <td>...</td>\n",
       "      <td>6.0</td>\n",
       "      <td>2.0</td>\n",
       "      <td>2.0</td>\n",
       "      <td>1.0</td>\n",
       "      <td>4.0</td>\n",
       "      <td>2.0</td>\n",
       "      <td>5.397605e-79</td>\n",
       "      <td>2.0</td>\n",
       "      <td>4</td>\n",
       "      <td>2011</td>\n",
       "    </tr>\n",
       "    <tr>\n",
       "      <th>2</th>\n",
       "      <td>11.0</td>\n",
       "      <td>1.0</td>\n",
       "      <td>88.0</td>\n",
       "      <td>2.0</td>\n",
       "      <td>1.0</td>\n",
       "      <td>2.0</td>\n",
       "      <td>2.0</td>\n",
       "      <td>2.0</td>\n",
       "      <td>2.0</td>\n",
       "      <td>2.0</td>\n",
       "      <td>...</td>\n",
       "      <td>3.0</td>\n",
       "      <td>4.0</td>\n",
       "      <td>2.0</td>\n",
       "      <td>9.0</td>\n",
       "      <td>2.0</td>\n",
       "      <td>1.0</td>\n",
       "      <td>1.000000e+02</td>\n",
       "      <td>1.0</td>\n",
       "      <td>10</td>\n",
       "      <td>2011</td>\n",
       "    </tr>\n",
       "    <tr>\n",
       "      <th>3</th>\n",
       "      <td>66.0</td>\n",
       "      <td>3.0</td>\n",
       "      <td>88.0</td>\n",
       "      <td>3.0</td>\n",
       "      <td>2.0</td>\n",
       "      <td>2.0</td>\n",
       "      <td>2.0</td>\n",
       "      <td>2.0</td>\n",
       "      <td>2.0</td>\n",
       "      <td>2.0</td>\n",
       "      <td>...</td>\n",
       "      <td>5.0</td>\n",
       "      <td>2.0</td>\n",
       "      <td>3.0</td>\n",
       "      <td>1.0</td>\n",
       "      <td>4.0</td>\n",
       "      <td>2.0</td>\n",
       "      <td>5.397605e-79</td>\n",
       "      <td>2.0</td>\n",
       "      <td>6</td>\n",
       "      <td>2011</td>\n",
       "    </tr>\n",
       "    <tr>\n",
       "      <th>4</th>\n",
       "      <td>20.0</td>\n",
       "      <td>2.0</td>\n",
       "      <td>88.0</td>\n",
       "      <td>88.0</td>\n",
       "      <td>2.0</td>\n",
       "      <td>2.0</td>\n",
       "      <td>2.0</td>\n",
       "      <td>2.0</td>\n",
       "      <td>2.0</td>\n",
       "      <td>2.0</td>\n",
       "      <td>...</td>\n",
       "      <td>3.0</td>\n",
       "      <td>2.0</td>\n",
       "      <td>2.0</td>\n",
       "      <td>3.0</td>\n",
       "      <td>4.0</td>\n",
       "      <td>1.0</td>\n",
       "      <td>4.300000e+01</td>\n",
       "      <td>1.0</td>\n",
       "      <td>5</td>\n",
       "      <td>2011</td>\n",
       "    </tr>\n",
       "  </tbody>\n",
       "</table>\n",
       "<p>5 rows × 38 columns</p>\n",
       "</div>"
      ],
      "text/plain": [
       "   _STATE  GENHLTH  PHYSHLTH  MENTHLTH  HLTHPLN1  CVDINFR4  CVDCRHD4  \\\n",
       "0    22.0      4.0      88.0      13.0       2.0       2.0       2.0   \n",
       "1    31.0      1.0       2.0      88.0       1.0       2.0       2.0   \n",
       "2    11.0      1.0      88.0       2.0       1.0       2.0       2.0   \n",
       "3    66.0      3.0      88.0       3.0       2.0       2.0       2.0   \n",
       "4    20.0      2.0      88.0      88.0       2.0       2.0       2.0   \n",
       "\n",
       "   CVDSTRK3  ASTHMA3  CHCSCNCR  ...  _AGE_G  _BMI5CAT  _EDUCAG  _INCOMG  \\\n",
       "0       2.0      2.0       2.0  ...     5.0       4.0      2.0      2.0   \n",
       "1       1.0      2.0       2.0  ...     6.0       2.0      2.0      1.0   \n",
       "2       2.0      2.0       2.0  ...     3.0       4.0      2.0      9.0   \n",
       "3       2.0      2.0       2.0  ...     5.0       2.0      3.0      1.0   \n",
       "4       2.0      2.0       2.0  ...     3.0       2.0      2.0      3.0   \n",
       "\n",
       "   _SMOKER3  DRNKANY5      DROCDY3_  _TOTINDA  calculated_month  \\\n",
       "0       2.0       2.0  5.397605e-79       2.0                 2   \n",
       "1       4.0       2.0  5.397605e-79       2.0                 4   \n",
       "2       2.0       1.0  1.000000e+02       1.0                10   \n",
       "3       4.0       2.0  5.397605e-79       2.0                 6   \n",
       "4       4.0       1.0  4.300000e+01       1.0                 5   \n",
       "\n",
       "   calculated_year  \n",
       "0             2011  \n",
       "1             2011  \n",
       "2             2011  \n",
       "3             2011  \n",
       "4             2011  \n",
       "\n",
       "[5 rows x 38 columns]"
      ]
     },
     "execution_count": 2,
     "metadata": {},
     "output_type": "execute_result"
    }
   ],
   "source": [
    "df = pd.read_csv(\"datasets/sample_dataset.csv\")\n",
    "sample_df = df.copy()\n",
    "sample_df.head()"
   ]
  },
  {
   "cell_type": "code",
   "execution_count": 3,
   "metadata": {},
   "outputs": [],
   "source": [
    "cleaned_df = clean_data(sample_df)"
   ]
  },
  {
   "cell_type": "code",
   "execution_count": 4,
   "metadata": {},
   "outputs": [
    {
     "data": {
      "text/plain": [
       "(500000, 30)"
      ]
     },
     "execution_count": 4,
     "metadata": {},
     "output_type": "execute_result"
    }
   ],
   "source": [
    "cleaned_df.shape"
   ]
  },
  {
   "cell_type": "code",
   "execution_count": 5,
   "metadata": {},
   "outputs": [
    {
     "data": {
      "text/plain": [
       "Index(['_STATE', 'GENHLTH', 'HLTHPLN1', 'CVDINFR4', 'CVDCRHD4', 'CVDSTRK3',\n",
       "       'CHCSCNCR', 'CHCOCNCR', 'ADDEPEV2', 'CHCKIDNY', 'DIABETE3', 'SEX',\n",
       "       'MARITAL', 'QLACTLM2', 'USENOW3', 'EXERANY2', 'PNEUVAC3', '_RFHLTH',\n",
       "       '_ASTHMS1', '_DRDXAR1', '_AGE_G', '_BMI5CAT', '_EDUCAG', '_INCOMG',\n",
       "       '_SMOKER3', '_TOTINDA', 'PHYSHLTH_30_day_range',\n",
       "       'MENTHLTH_30_day_range', 'ALCDAY5_last_30_days', 'month_year_datetime'],\n",
       "      dtype='object')"
      ]
     },
     "execution_count": 5,
     "metadata": {},
     "output_type": "execute_result"
    }
   ],
   "source": [
    "cleaned_df.columns"
   ]
  },
  {
   "cell_type": "code",
   "execution_count": 6,
   "metadata": {},
   "outputs": [
    {
     "name": "stdout",
     "output_type": "stream",
     "text": [
      "{\"_STATE\": {\".D\": \"DK/NS\", \".R\": \"REFUSED\", \"1\": \"Alabama\", \"2\": \"Alaska\", \"4\": \"Arizona\", \"5\": \"Arkansas\", \"6\": \"California\", \"8\": \"Colorado\", \"9\": \"Connecticut\", \"10\": \"Delaware\", \"11\": \"District of Columbia\", \"12\": \"Florida\", \"13\": \"Georgia\", \"15\": \"Hawaii\", \"16\": \"Idaho\", \"17\": \"Illinois\", \"18\": \"Indiana\", \"19\": \"Iowa\", \"20\": \"Kansas\", \"21\": \"Kentucky\", \"22\": \"Louisiana\", \"23\": \"Maine\", \"24\": \"Maryland\", \"25\": \"Massachusetts\", \"26\": \"Michigan\", \"27\": \"Minnesota\", \"28\": \"Mississippi\", \"29\": \"Missouri\", \"30\": \"Montana\", \"31\": \"Nebraska\", \"32\": \"Nevada\", \"33\": \"New Hampshire\", \"34\": \"New Jersey\", \"35\": \"New Mexico\", \"36\": \"New York\", \"37\": \"North Carolina\", \"38\": \"North Dakota\", \"39\": \"Ohio\", \"40\": \"Oklahoma\", \"41\": \"Oregon\", \"42\": \"Pennsylvania\", \"44\": \"Rhode Island\", \"45\": \"South Carolina\", \"46\": \"South Dakota\", \"47\": \"Tennessee\", \"48\": \"Texas\", \"49\": \"Utah\", \"50\": \"Vermont\", \"51\": \"Virginia\", \"53\": \"Washington\", \"54\": \"West Virginia\", \"55\": \"Wisconsin\", \"56\": \"Wyoming\", \"66\": \"Guam\", \"72\": \"Puerto Rico\", \"78\": \"Virgin Islands\"}, \"GENHLTH\": {\".\": \"Not asked or Missing\", \".D\": \"DK/NS\", \".R\": \"REFUSED\", \"1\": \"Excellent\", \"2\": \"Very good\", \"3\": \"Good\", \"4\": \"Fair\", \"5\": \"Poor\", \"7\": \"Dont know/Not Sure\", \"9\": \"Refused\"}, \"PHYSHLTH\": {\".\": \"Not asked or Missing\", \".D\": \"DK/NS\", \".R\": \"REFUSED\", \"1       - 30\": \"Number of days\", \"77\": \"Dont know/Not sure\", \"88\": \"None\", \"99\": \"Refused\"}, \"MENTHLTH\": {\".\": \"Not asked or Missing\", \".D\": \"DK/NS\", \".R\": \"REFUSED\", \"1       - 30\": \"Number of days\", \"77\": \"Dont know/Not sure\", \"88\": \"None\", \"99\": \"Refused\"}, \"CHCSCNCR\": {\".\": \"Not asked or Missing\", \".D\": \"DK/NS\", \".R\": \"REFUSED\", \"1\": \"Yes\", \"2\": \"No\", \"7\": \"Dont know / Not sure\", \"9\": \"Refused\"}, \"CHCOCNCR\": {\".\": \"Not asked or Missing\", \".D\": \"DK/NS\", \".R\": \"REFUSED\", \"1\": \"Yes\", \"2\": \"No\", \"7\": \"Dont know / Not sure\", \"9\": \"Refused\"}, \"CHCKIDNY\": {\".\": \"Not asked or Missing\", \".D\": \"DK/NS\", \".R\": \"REFUSED\", \"1\": \"Yes\", \"2\": \"No\", \"7\": \"Dont know / Not sure\", \"9\": \"Refused\"}, \"SEX\": {\".D\": \"DK/NS\", \".R\": \"REFUSED\", \"1\": \"Male\", \"2\": \"Female\", \"9\": \"Refused\"}, \"MARITAL\": {\".\": \"Not asked or Missing\", \".D\": \"DK/NS\", \".R\": \"REFUSED\", \"1\": \"Married\", \"2\": \"Divorced\", \"3\": \"Widowed\", \"4\": \"Separated\", \"5\": \"Never married\", \"6\": \"A member of an unmarried couple\", \"9\": \"Refused\"}, \"_RFHLTH\": {\".D\": \"DK/NS\", \".R\": \"REFUSED\", \"1\": \"Good or Better Health\", \"2\": \"Fair or Poor Health\", \"9\": \"Dont know/Not Sure Or Refused/Missing\"}, \"_AGE_G\": {\".D\": \"DK/NS\", \".R\": \"REFUSED\", \"1\": \"Age 18 to 24\", \"2\": \"Age 25 to 34\", \"3\": \"Age 35 to 44\", \"4\": \"Age 45 to 54\", \"5\": \"Age 55 to 64\", \"6\": \"Age 65 or older\"}, \"_BMI5CAT\": {\".\": \"Dont know/Refused/Missing\", \".D\": \"DK/NS\", \".R\": \"REFUSED\", \"1\": \"Underweight\", \"2\": \"Normal Weight\", \"3\": \"Overweight\", \"4\": \"Obese\"}, \"_EDUCAG\": {\".D\": \"DK/NS\", \".R\": \"REFUSED\", \"1\": \"Did not graduate High School\", \"2\": \"Graduated High School\", \"3\": \"Attended College or Technical School\", \"4\": \"Graduated from College or Technical School\", \"9\": \"Dont know/Not sure/Missing\"}, \"_INCOMG\": {\".D\": \"DK/NS\", \".R\": \"REFUSED\", \"1\": \"Less than $15,000\", \"2\": \"$15,000 to less than $25,000\", \"3\": \"$25,000 to less than $35,000\", \"4\": \"$35,000 to less than $50,000\", \"5\": \"$50,000 or more\", \"9\": \"Dont know/Not sure/Missing\"}, \"DROCDY3_\": {\".D\": \"DK/NS\", \".R\": \"REFUSED\", \"0\": \"No Drink-Occasions per day\", \"1       - 899\": \"Drink-Occasions per day\", \"900\": \"Dont know/Not Sure Or Refused/Missing\"}, \"_TOTINDA\": {\".D\": \"DK/NS\", \".R\": \"REFUSED\", \"1\": \"Had physical activity or exercise\", \"2\": \"No physical activity or exercise in last 30 days\", \"9\": \"Dont know/Refused/Missing\"}}\n"
     ]
    }
   ],
   "source": [
    "# Read json file for source key value definitions\n",
    "\n",
    "import json\n",
    "\n",
    "with open(\"datasets/2015_formats.json\") as json_file:\n",
    "    data = json.load(json_file)\n",
    "    \n",
    "column_names = sample_df.columns\n",
    "\n",
    "filtered_values = {}\n",
    "\n",
    "for column_name in column_names:\n",
    "    if column_name in data:\n",
    "        values_without_quotes = {k: v.strip('\"') for k, v in data[column_name].items()}\n",
    "        filtered_values[column_name] = values_without_quotes\n",
    "        \n",
    "filtered_json = json.dumps(filtered_values, ensure_ascii=False)\n",
    "print(filtered_json)"
   ]
  },
  {
   "cell_type": "code",
   "execution_count": 7,
   "metadata": {},
   "outputs": [],
   "source": [
    "cleaned_df.to_csv(\"datasets/cleaned_dataset.csv\", index=False)"
   ]
  }
 ],
 "metadata": {
  "kernelspec": {
   "display_name": "dev",
   "language": "python",
   "name": "python3"
  },
  "language_info": {
   "codemirror_mode": {
    "name": "ipython",
    "version": 3
   },
   "file_extension": ".py",
   "mimetype": "text/x-python",
   "name": "python",
   "nbconvert_exporter": "python",
   "pygments_lexer": "ipython3",
   "version": "3.10.13"
  }
 },
 "nbformat": 4,
 "nbformat_minor": 2
}
